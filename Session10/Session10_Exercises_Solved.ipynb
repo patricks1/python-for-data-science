{
 "cells": [
  {
   "cell_type": "markdown",
   "metadata": {},
   "source": [
    "# Python for Data Science, Level I\n",
    "### *Session \\#10*\n",
    "---\n",
    "\n",
    "### Helpful shortcuts\n",
    "---\n",
    "\n",
    "**SHIFT** + **ENTER** ----> Execute Cell\n",
    "\n",
    "**TAB** ----> See autocomplete options\n",
    "\n",
    "**ESC** then **b** ----> Create Cell \n",
    "\n",
    "**ESC** then **dd** ----> Delete Cell\n",
    "\n",
    "**\\[python expression\\]?** ---> Explanation of that Python expression\n",
    "\n",
    "**ESC** then **m** then __ENTER__ ----> Switch to Markdown mode"
   ]
  },
  {
   "cell_type": "markdown",
   "metadata": {},
   "source": [
    "## I. Review\n",
    "\n",
    "### Warm Ups\n",
    "\n",
    "---\n",
    "\n",
    "**Import pandas/matplotlib, set style, and create dataframe:**"
   ]
  },
  {
   "cell_type": "code",
   "execution_count": 1,
   "metadata": {},
   "outputs": [],
   "source": [
    "import pandas as pd\n",
    "import numpy as np\n",
    "import matplotlib as mlp\n",
    "\n",
    "import sklearn\n",
    "from sklearn.linear_model import LinearRegression\n",
    "\n",
    "from matplotlib import pyplot as plt\n",
    "\n",
    "df = pd.read_csv(\"housing_prices.csv\")"
   ]
  },
  {
   "cell_type": "markdown",
   "metadata": {},
   "source": [
    "**Create a linear model:** `model = LinearRegression()`"
   ]
  },
  {
   "cell_type": "code",
   "execution_count": 2,
   "metadata": {},
   "outputs": [],
   "source": [
    "model = LinearRegression()"
   ]
  },
  {
   "cell_type": "markdown",
   "metadata": {},
   "source": [
    "**Fit model using input** `avg_num_rooms` **to predict** `median_price`:\n",
    "```python\n",
    "model.fit(df[['avg_num_rooms']], df['median_price'])\n",
    "```"
   ]
  },
  {
   "cell_type": "code",
   "execution_count": null,
   "metadata": {},
   "outputs": [],
   "source": []
  },
  {
   "cell_type": "markdown",
   "metadata": {},
   "source": [
    "**Predict using your linear model:** `predicted = model.predict(df[['avg_num_rooms']])`"
   ]
  },
  {
   "cell_type": "code",
   "execution_count": null,
   "metadata": {},
   "outputs": [],
   "source": []
  },
  {
   "cell_type": "markdown",
   "metadata": {},
   "source": [
    "**Find the mean_absolute_error**\n",
    "```python\n",
    "from sklearn.metrics import mean_absolute_error\n",
    "mean_absolute_error(df['median_price'], predicted)\n",
    "```"
   ]
  },
  {
   "cell_type": "markdown",
   "metadata": {},
   "source": [
    "### Exercises\n",
    "---"
   ]
  },
  {
   "cell_type": "markdown",
   "metadata": {},
   "source": [
    "**1. Create a new** `LinearRegression` **model and fit using the** `crime_rate` **column and  the** `median_price` **column**\n",
    "   "
   ]
  },
  {
   "cell_type": "code",
   "execution_count": 3,
   "metadata": {},
   "outputs": [
    {
     "data": {
      "text/html": [
       "<style>#sk-container-id-1 {color: black;background-color: white;}#sk-container-id-1 pre{padding: 0;}#sk-container-id-1 div.sk-toggleable {background-color: white;}#sk-container-id-1 label.sk-toggleable__label {cursor: pointer;display: block;width: 100%;margin-bottom: 0;padding: 0.3em;box-sizing: border-box;text-align: center;}#sk-container-id-1 label.sk-toggleable__label-arrow:before {content: \"▸\";float: left;margin-right: 0.25em;color: #696969;}#sk-container-id-1 label.sk-toggleable__label-arrow:hover:before {color: black;}#sk-container-id-1 div.sk-estimator:hover label.sk-toggleable__label-arrow:before {color: black;}#sk-container-id-1 div.sk-toggleable__content {max-height: 0;max-width: 0;overflow: hidden;text-align: left;background-color: #f0f8ff;}#sk-container-id-1 div.sk-toggleable__content pre {margin: 0.2em;color: black;border-radius: 0.25em;background-color: #f0f8ff;}#sk-container-id-1 input.sk-toggleable__control:checked~div.sk-toggleable__content {max-height: 200px;max-width: 100%;overflow: auto;}#sk-container-id-1 input.sk-toggleable__control:checked~label.sk-toggleable__label-arrow:before {content: \"▾\";}#sk-container-id-1 div.sk-estimator input.sk-toggleable__control:checked~label.sk-toggleable__label {background-color: #d4ebff;}#sk-container-id-1 div.sk-label input.sk-toggleable__control:checked~label.sk-toggleable__label {background-color: #d4ebff;}#sk-container-id-1 input.sk-hidden--visually {border: 0;clip: rect(1px 1px 1px 1px);clip: rect(1px, 1px, 1px, 1px);height: 1px;margin: -1px;overflow: hidden;padding: 0;position: absolute;width: 1px;}#sk-container-id-1 div.sk-estimator {font-family: monospace;background-color: #f0f8ff;border: 1px dotted black;border-radius: 0.25em;box-sizing: border-box;margin-bottom: 0.5em;}#sk-container-id-1 div.sk-estimator:hover {background-color: #d4ebff;}#sk-container-id-1 div.sk-parallel-item::after {content: \"\";width: 100%;border-bottom: 1px solid gray;flex-grow: 1;}#sk-container-id-1 div.sk-label:hover label.sk-toggleable__label {background-color: #d4ebff;}#sk-container-id-1 div.sk-serial::before {content: \"\";position: absolute;border-left: 1px solid gray;box-sizing: border-box;top: 0;bottom: 0;left: 50%;z-index: 0;}#sk-container-id-1 div.sk-serial {display: flex;flex-direction: column;align-items: center;background-color: white;padding-right: 0.2em;padding-left: 0.2em;position: relative;}#sk-container-id-1 div.sk-item {position: relative;z-index: 1;}#sk-container-id-1 div.sk-parallel {display: flex;align-items: stretch;justify-content: center;background-color: white;position: relative;}#sk-container-id-1 div.sk-item::before, #sk-container-id-1 div.sk-parallel-item::before {content: \"\";position: absolute;border-left: 1px solid gray;box-sizing: border-box;top: 0;bottom: 0;left: 50%;z-index: -1;}#sk-container-id-1 div.sk-parallel-item {display: flex;flex-direction: column;z-index: 1;position: relative;background-color: white;}#sk-container-id-1 div.sk-parallel-item:first-child::after {align-self: flex-end;width: 50%;}#sk-container-id-1 div.sk-parallel-item:last-child::after {align-self: flex-start;width: 50%;}#sk-container-id-1 div.sk-parallel-item:only-child::after {width: 0;}#sk-container-id-1 div.sk-dashed-wrapped {border: 1px dashed gray;margin: 0 0.4em 0.5em 0.4em;box-sizing: border-box;padding-bottom: 0.4em;background-color: white;}#sk-container-id-1 div.sk-label label {font-family: monospace;font-weight: bold;display: inline-block;line-height: 1.2em;}#sk-container-id-1 div.sk-label-container {text-align: center;}#sk-container-id-1 div.sk-container {/* jupyter's `normalize.less` sets `[hidden] { display: none; }` but bootstrap.min.css set `[hidden] { display: none !important; }` so we also need the `!important` here to be able to override the default hidden behavior on the sphinx rendered scikit-learn.org. See: https://github.com/scikit-learn/scikit-learn/issues/21755 */display: inline-block !important;position: relative;}#sk-container-id-1 div.sk-text-repr-fallback {display: none;}</style><div id=\"sk-container-id-1\" class=\"sk-top-container\"><div class=\"sk-text-repr-fallback\"><pre>LinearRegression()</pre><b>In a Jupyter environment, please rerun this cell to show the HTML representation or trust the notebook. <br />On GitHub, the HTML representation is unable to render, please try loading this page with nbviewer.org.</b></div><div class=\"sk-container\" hidden><div class=\"sk-item\"><div class=\"sk-estimator sk-toggleable\"><input class=\"sk-toggleable__control sk-hidden--visually\" id=\"sk-estimator-id-1\" type=\"checkbox\" checked><label for=\"sk-estimator-id-1\" class=\"sk-toggleable__label sk-toggleable__label-arrow\">LinearRegression</label><div class=\"sk-toggleable__content\"><pre>LinearRegression()</pre></div></div></div></div></div>"
      ],
      "text/plain": [
       "LinearRegression()"
      ]
     },
     "execution_count": 3,
     "metadata": {},
     "output_type": "execute_result"
    }
   ],
   "source": [
    "modelI1 = LinearRegression()\n",
    "col = ['crime_rate']\n",
    "modelI1.fit(df[col], df['median_price'])"
   ]
  },
  {
   "cell_type": "markdown",
   "metadata": {},
   "source": [
    "**2. Create a variable** `predicted` **using** `model.predict()`"
   ]
  },
  {
   "cell_type": "code",
   "execution_count": 4,
   "metadata": {},
   "outputs": [],
   "source": [
    "predicted = modelI1.predict(df[col])"
   ]
  },
  {
   "cell_type": "markdown",
   "metadata": {},
   "source": [
    "**3. What is the mean absolute error for your model?**"
   ]
  },
  {
   "cell_type": "code",
   "execution_count": 5,
   "metadata": {},
   "outputs": [
    {
     "name": "stdout",
     "output_type": "stream",
     "text": [
      "71690735.8819666\n",
      "0.15078046904975695\n"
     ]
    }
   ],
   "source": [
    "from sklearn.metrics import mean_absolute_error, mean_squared_error\n",
    "\n",
    "print(mean_squared_error(predicted, df['median_price']))\n",
    "print(modelI1.score(df[col], df['median_price']))"
   ]
  },
  {
   "cell_type": "markdown",
   "metadata": {},
   "source": [
    "**4. Retrain your model using the** `office_percent` **column.**\n"
   ]
  },
  {
   "cell_type": "code",
   "execution_count": 6,
   "metadata": {},
   "outputs": [
    {
     "data": {
      "text/html": [
       "<style>#sk-container-id-2 {color: black;background-color: white;}#sk-container-id-2 pre{padding: 0;}#sk-container-id-2 div.sk-toggleable {background-color: white;}#sk-container-id-2 label.sk-toggleable__label {cursor: pointer;display: block;width: 100%;margin-bottom: 0;padding: 0.3em;box-sizing: border-box;text-align: center;}#sk-container-id-2 label.sk-toggleable__label-arrow:before {content: \"▸\";float: left;margin-right: 0.25em;color: #696969;}#sk-container-id-2 label.sk-toggleable__label-arrow:hover:before {color: black;}#sk-container-id-2 div.sk-estimator:hover label.sk-toggleable__label-arrow:before {color: black;}#sk-container-id-2 div.sk-toggleable__content {max-height: 0;max-width: 0;overflow: hidden;text-align: left;background-color: #f0f8ff;}#sk-container-id-2 div.sk-toggleable__content pre {margin: 0.2em;color: black;border-radius: 0.25em;background-color: #f0f8ff;}#sk-container-id-2 input.sk-toggleable__control:checked~div.sk-toggleable__content {max-height: 200px;max-width: 100%;overflow: auto;}#sk-container-id-2 input.sk-toggleable__control:checked~label.sk-toggleable__label-arrow:before {content: \"▾\";}#sk-container-id-2 div.sk-estimator input.sk-toggleable__control:checked~label.sk-toggleable__label {background-color: #d4ebff;}#sk-container-id-2 div.sk-label input.sk-toggleable__control:checked~label.sk-toggleable__label {background-color: #d4ebff;}#sk-container-id-2 input.sk-hidden--visually {border: 0;clip: rect(1px 1px 1px 1px);clip: rect(1px, 1px, 1px, 1px);height: 1px;margin: -1px;overflow: hidden;padding: 0;position: absolute;width: 1px;}#sk-container-id-2 div.sk-estimator {font-family: monospace;background-color: #f0f8ff;border: 1px dotted black;border-radius: 0.25em;box-sizing: border-box;margin-bottom: 0.5em;}#sk-container-id-2 div.sk-estimator:hover {background-color: #d4ebff;}#sk-container-id-2 div.sk-parallel-item::after {content: \"\";width: 100%;border-bottom: 1px solid gray;flex-grow: 1;}#sk-container-id-2 div.sk-label:hover label.sk-toggleable__label {background-color: #d4ebff;}#sk-container-id-2 div.sk-serial::before {content: \"\";position: absolute;border-left: 1px solid gray;box-sizing: border-box;top: 0;bottom: 0;left: 50%;z-index: 0;}#sk-container-id-2 div.sk-serial {display: flex;flex-direction: column;align-items: center;background-color: white;padding-right: 0.2em;padding-left: 0.2em;position: relative;}#sk-container-id-2 div.sk-item {position: relative;z-index: 1;}#sk-container-id-2 div.sk-parallel {display: flex;align-items: stretch;justify-content: center;background-color: white;position: relative;}#sk-container-id-2 div.sk-item::before, #sk-container-id-2 div.sk-parallel-item::before {content: \"\";position: absolute;border-left: 1px solid gray;box-sizing: border-box;top: 0;bottom: 0;left: 50%;z-index: -1;}#sk-container-id-2 div.sk-parallel-item {display: flex;flex-direction: column;z-index: 1;position: relative;background-color: white;}#sk-container-id-2 div.sk-parallel-item:first-child::after {align-self: flex-end;width: 50%;}#sk-container-id-2 div.sk-parallel-item:last-child::after {align-self: flex-start;width: 50%;}#sk-container-id-2 div.sk-parallel-item:only-child::after {width: 0;}#sk-container-id-2 div.sk-dashed-wrapped {border: 1px dashed gray;margin: 0 0.4em 0.5em 0.4em;box-sizing: border-box;padding-bottom: 0.4em;background-color: white;}#sk-container-id-2 div.sk-label label {font-family: monospace;font-weight: bold;display: inline-block;line-height: 1.2em;}#sk-container-id-2 div.sk-label-container {text-align: center;}#sk-container-id-2 div.sk-container {/* jupyter's `normalize.less` sets `[hidden] { display: none; }` but bootstrap.min.css set `[hidden] { display: none !important; }` so we also need the `!important` here to be able to override the default hidden behavior on the sphinx rendered scikit-learn.org. See: https://github.com/scikit-learn/scikit-learn/issues/21755 */display: inline-block !important;position: relative;}#sk-container-id-2 div.sk-text-repr-fallback {display: none;}</style><div id=\"sk-container-id-2\" class=\"sk-top-container\"><div class=\"sk-text-repr-fallback\"><pre>LinearRegression()</pre><b>In a Jupyter environment, please rerun this cell to show the HTML representation or trust the notebook. <br />On GitHub, the HTML representation is unable to render, please try loading this page with nbviewer.org.</b></div><div class=\"sk-container\" hidden><div class=\"sk-item\"><div class=\"sk-estimator sk-toggleable\"><input class=\"sk-toggleable__control sk-hidden--visually\" id=\"sk-estimator-id-2\" type=\"checkbox\" checked><label for=\"sk-estimator-id-2\" class=\"sk-toggleable__label sk-toggleable__label-arrow\">LinearRegression</label><div class=\"sk-toggleable__content\"><pre>LinearRegression()</pre></div></div></div></div></div>"
      ],
      "text/plain": [
       "LinearRegression()"
      ]
     },
     "execution_count": 6,
     "metadata": {},
     "output_type": "execute_result"
    }
   ],
   "source": [
    "modelI2 = LinearRegression()\n",
    "col = [\"office_percent\"]\n",
    "modelI2.fit(df[col], df['median_price'])"
   ]
  },
  {
   "cell_type": "markdown",
   "metadata": {},
   "source": [
    "**5. Overwrite the** `predicted_price` **column using** `model.predict()`"
   ]
  },
  {
   "cell_type": "code",
   "execution_count": 7,
   "metadata": {},
   "outputs": [],
   "source": [
    "predicted = modelI2.predict(df[col])"
   ]
  },
  {
   "cell_type": "markdown",
   "metadata": {},
   "source": [
    "**6. What is the mean absolute error for the new model?** "
   ]
  },
  {
   "cell_type": "code",
   "execution_count": 8,
   "metadata": {},
   "outputs": [
    {
     "data": {
      "text/plain": [
       "0.23399003044447497"
      ]
     },
     "execution_count": 8,
     "metadata": {},
     "output_type": "execute_result"
    }
   ],
   "source": [
    "modelI2.score(df[col], df['median_price'])"
   ]
  },
  {
   "cell_type": "markdown",
   "metadata": {},
   "source": [
    "## II. Multilinear Regression\n",
    "\n",
    "### Warm Ups\n",
    "---"
   ]
  },
  {
   "cell_type": "markdown",
   "metadata": {},
   "source": [
    "**Training a model with multiple features:** \n",
    "\n",
    "```python\n",
    "columns = ['avg_num_rooms', 'student_teacher_ratio', 'nitrous']\n",
    "model.fit(df[columns], df['median_price'])\n",
    "```"
   ]
  },
  {
   "cell_type": "code",
   "execution_count": 9,
   "metadata": {},
   "outputs": [
    {
     "data": {
      "text/html": [
       "<style>#sk-container-id-3 {color: black;background-color: white;}#sk-container-id-3 pre{padding: 0;}#sk-container-id-3 div.sk-toggleable {background-color: white;}#sk-container-id-3 label.sk-toggleable__label {cursor: pointer;display: block;width: 100%;margin-bottom: 0;padding: 0.3em;box-sizing: border-box;text-align: center;}#sk-container-id-3 label.sk-toggleable__label-arrow:before {content: \"▸\";float: left;margin-right: 0.25em;color: #696969;}#sk-container-id-3 label.sk-toggleable__label-arrow:hover:before {color: black;}#sk-container-id-3 div.sk-estimator:hover label.sk-toggleable__label-arrow:before {color: black;}#sk-container-id-3 div.sk-toggleable__content {max-height: 0;max-width: 0;overflow: hidden;text-align: left;background-color: #f0f8ff;}#sk-container-id-3 div.sk-toggleable__content pre {margin: 0.2em;color: black;border-radius: 0.25em;background-color: #f0f8ff;}#sk-container-id-3 input.sk-toggleable__control:checked~div.sk-toggleable__content {max-height: 200px;max-width: 100%;overflow: auto;}#sk-container-id-3 input.sk-toggleable__control:checked~label.sk-toggleable__label-arrow:before {content: \"▾\";}#sk-container-id-3 div.sk-estimator input.sk-toggleable__control:checked~label.sk-toggleable__label {background-color: #d4ebff;}#sk-container-id-3 div.sk-label input.sk-toggleable__control:checked~label.sk-toggleable__label {background-color: #d4ebff;}#sk-container-id-3 input.sk-hidden--visually {border: 0;clip: rect(1px 1px 1px 1px);clip: rect(1px, 1px, 1px, 1px);height: 1px;margin: -1px;overflow: hidden;padding: 0;position: absolute;width: 1px;}#sk-container-id-3 div.sk-estimator {font-family: monospace;background-color: #f0f8ff;border: 1px dotted black;border-radius: 0.25em;box-sizing: border-box;margin-bottom: 0.5em;}#sk-container-id-3 div.sk-estimator:hover {background-color: #d4ebff;}#sk-container-id-3 div.sk-parallel-item::after {content: \"\";width: 100%;border-bottom: 1px solid gray;flex-grow: 1;}#sk-container-id-3 div.sk-label:hover label.sk-toggleable__label {background-color: #d4ebff;}#sk-container-id-3 div.sk-serial::before {content: \"\";position: absolute;border-left: 1px solid gray;box-sizing: border-box;top: 0;bottom: 0;left: 50%;z-index: 0;}#sk-container-id-3 div.sk-serial {display: flex;flex-direction: column;align-items: center;background-color: white;padding-right: 0.2em;padding-left: 0.2em;position: relative;}#sk-container-id-3 div.sk-item {position: relative;z-index: 1;}#sk-container-id-3 div.sk-parallel {display: flex;align-items: stretch;justify-content: center;background-color: white;position: relative;}#sk-container-id-3 div.sk-item::before, #sk-container-id-3 div.sk-parallel-item::before {content: \"\";position: absolute;border-left: 1px solid gray;box-sizing: border-box;top: 0;bottom: 0;left: 50%;z-index: -1;}#sk-container-id-3 div.sk-parallel-item {display: flex;flex-direction: column;z-index: 1;position: relative;background-color: white;}#sk-container-id-3 div.sk-parallel-item:first-child::after {align-self: flex-end;width: 50%;}#sk-container-id-3 div.sk-parallel-item:last-child::after {align-self: flex-start;width: 50%;}#sk-container-id-3 div.sk-parallel-item:only-child::after {width: 0;}#sk-container-id-3 div.sk-dashed-wrapped {border: 1px dashed gray;margin: 0 0.4em 0.5em 0.4em;box-sizing: border-box;padding-bottom: 0.4em;background-color: white;}#sk-container-id-3 div.sk-label label {font-family: monospace;font-weight: bold;display: inline-block;line-height: 1.2em;}#sk-container-id-3 div.sk-label-container {text-align: center;}#sk-container-id-3 div.sk-container {/* jupyter's `normalize.less` sets `[hidden] { display: none; }` but bootstrap.min.css set `[hidden] { display: none !important; }` so we also need the `!important` here to be able to override the default hidden behavior on the sphinx rendered scikit-learn.org. See: https://github.com/scikit-learn/scikit-learn/issues/21755 */display: inline-block !important;position: relative;}#sk-container-id-3 div.sk-text-repr-fallback {display: none;}</style><div id=\"sk-container-id-3\" class=\"sk-top-container\"><div class=\"sk-text-repr-fallback\"><pre>LinearRegression()</pre><b>In a Jupyter environment, please rerun this cell to show the HTML representation or trust the notebook. <br />On GitHub, the HTML representation is unable to render, please try loading this page with nbviewer.org.</b></div><div class=\"sk-container\" hidden><div class=\"sk-item\"><div class=\"sk-estimator sk-toggleable\"><input class=\"sk-toggleable__control sk-hidden--visually\" id=\"sk-estimator-id-3\" type=\"checkbox\" checked><label for=\"sk-estimator-id-3\" class=\"sk-toggleable__label sk-toggleable__label-arrow\">LinearRegression</label><div class=\"sk-toggleable__content\"><pre>LinearRegression()</pre></div></div></div></div></div>"
      ],
      "text/plain": [
       "LinearRegression()"
      ]
     },
     "execution_count": 9,
     "metadata": {},
     "output_type": "execute_result"
    }
   ],
   "source": [
    "modelII = LinearRegression()\n",
    "columns = ['avg_num_rooms', 'student_teacher_ratio', 'nitrous']\n",
    "modelII.fit(df[columns], df['median_price'])"
   ]
  },
  {
   "cell_type": "markdown",
   "metadata": {},
   "source": [
    "**Prediction with multiple features:** `model.predict(df[columns])`"
   ]
  },
  {
   "cell_type": "code",
   "execution_count": 10,
   "metadata": {},
   "outputs": [
    {
     "data": {
      "text/plain": [
       "array([28568.33624892, 25712.90372311, 31030.56626197, 28851.78258574,\n",
       "       29888.86598665, 24898.337138  , 25005.77499457, 26119.42159957,\n",
       "       22353.90401642, 24950.09266432, 27546.28131222, 24984.89412072,\n",
       "       24149.65916698, 17471.94702378, 18495.10984213, 16671.51352644,\n",
       "       17374.50294585, 17757.31896631, 14040.52342214, 15926.76235935,\n",
       "       14833.9966282 , 17583.31168428, 18815.28324106, 16525.34740954,\n",
       "       17297.93974175, 15035.84507535, 16525.34740954, 18154.05556935,\n",
       "       21272.26606334, 22518.15820268, 15829.31828141, 18328.06285138,\n",
       "       17478.90731507, 15745.79478604, 18495.10984213, 20151.34866705,\n",
       "       19511.00186918, 19573.64449071, 20381.03827933, 27029.39409564,\n",
       "       30015.35905529, 28380.58848208, 24197.45342206, 24489.78565587,\n",
       "       23501.42429394, 20807.7915681 , 21531.66186135, 23229.97293397,\n",
       "       18838.02913551, 20250.9682656 , 24217.09362128, 25275.05789603,\n",
       "       28031.3332434 , 24460.70381613, 19103.76849324, 32479.0869414 ,\n",
       "       27041.94393284, 32639.87358   , 21817.27665667, 20299.93315736,\n",
       "       19005.31897905, 20571.38451733, 23981.92724514, 26111.77637719,\n",
       "       30419.65793861, 28017.29737734, 24516.27086288, 21652.26772217,\n",
       "       19675.5449983 , 21700.98976114, 24981.21027966, 21807.31745542,\n",
       "       22531.18774867, 23784.04017929, 24162.34691013, 24252.83069679,\n",
       "       24204.10865782, 23236.62816973, 23876.9749676 , 21385.19068892,\n",
       "       27154.50435392, 26402.79289555, 24196.3805594 , 23256.74123643,\n",
       "       25002.33378551, 26679.76398428, 22399.18484632, 23136.97572214,\n",
       "       29451.84822031, 29952.98919255, 25345.27636438, 25261.752869  ,\n",
       "       25471.08678258, 23863.25949662, 24127.7505653 , 27304.08177389,\n",
       "       24088.42720196, 37354.74238399, 35621.62985496, 32809.67217734,\n",
       "       23311.09361629, 23686.94934547, 21069.87982373, 19204.52176036,\n",
       "       19413.33049879, 17213.87845392, 17109.47408471, 19134.91884755,\n",
       "       21550.13992213, 19844.86855823, 19608.21865467, 26434.06320473,\n",
       "       20851.90959718, 22097.80173652, 23225.36892408, 20956.3139664 ,\n",
       "       22682.46620415, 21603.62105556, 20566.53765465, 19585.136584  ,\n",
       "       18437.95932401, 19370.6383557 , 19071.34583061, 18340.51524608,\n",
       "       18500.60194554, 19245.35311264, 16649.16446474, 13992.56702038,\n",
       "       19129.26198593, 13602.79070863, 19317.18985052, 18398.4314014 ,\n",
       "       18718.60480033, 14890.44459565, 14438.02566237, 18461.07402293,\n",
       "       15725.6795494 , 19289.3486854 , 15134.0547905 , 17180.38042718,\n",
       "       17340.46712665,  9301.33069682, 15462.82915256, 15915.24808584,\n",
       "       11982.68351194, 20522.96091401, 17028.89469083, 12142.77021141,\n",
       "       13952.44594453, 16813.12566111, 20467.27858376, 15469.78944384,\n",
       "       12741.35526159, 17592.67828461, 20516.00062273, 20676.0873222 ,\n",
       "       14551.03099471, 30700.83410059, 24596.65864695, 23167.87160088,\n",
       "       25877.35224269, 34501.15314014, 36679.72431117, 40667.97121532,\n",
       "       23121.07689533, 24840.26884179, 37563.68130389, 23281.16359479,\n",
       "       26357.6123411 , 26935.31651744, 23267.24301223, 23302.04446864,\n",
       "       20525.84354594, 26400.3293873 , 22523.44714366, 27305.16725386,\n",
       "       23644.05403993, 25697.3399679 , 29490.69871617, 29280.90966539,\n",
       "       34744.73832116, 23462.10615428, 30498.96063961, 26378.46820112,\n",
       "       19703.54886241, 23524.74877581, 35204.11754572, 31843.2692233 ,\n",
       "       30270.24339374, 34648.26660963, 33019.55844983, 31543.9766982 ,\n",
       "       34599.54457067, 32107.24000902, 30743.02291789, 40651.56645055,\n",
       "       38992.90597767, 37740.05354704, 38902.42219101, 31636.05874346,\n",
       "       32749.70534846, 28492.81544918, 38571.31722441, 40243.9797651 ,\n",
       "       41503.79248701, 20738.30393879, 23766.03064612, 19986.59248041,\n",
       "       21942.43433044, 16931.02460795, 21218.56403719, 17348.64208482,\n",
       "       20153.63947116, 24107.0849189 , 17404.32441507, 22763.74870163,\n",
       "       22282.18800652, 27530.24763257, 22720.68635724, 25657.92927792,\n",
       "       29229.19394014, 23751.44470181, 28728.05296789, 26911.41694349,\n",
       "       38432.94490401, 41627.71860209, 36859.91907445, 30755.74362081,\n",
       "       34395.97596089, 26503.00564797, 22528.67932639, 32488.85614983,\n",
       "       38876.15765593, 38249.73144062, 27663.12840187, 23208.54198188,\n",
       "       27001.90073015, 32062.03249161, 28245.87171436, 29115.90812451,\n",
       "       31141.35288735, 25559.1992798 , 27389.75588677, 27633.36608161,\n",
       "       19058.35509114, 19141.87858652, 22642.90510098, 23464.21947216,\n",
       "       24904.99976738, 26888.68278253, 25280.85549657, 24939.80122378,\n",
       "       28552.19239875, 37614.49164691, 26497.76301786, 24882.97544062,\n",
       "       36423.49847033, 44254.30686506, 34711.74751848, 31294.2444994 ,\n",
       "       33806.90965192, 36013.32198807, 42124.457733  , 34669.9857708 ,\n",
       "       33827.79052577, 22371.15107685, 32491.41459977, 42644.69861057,\n",
       "       36888.53772099, 21364.88512795, 20919.42648595, 23592.17833794,\n",
       "       25666.34513975, 33691.56098701, 28668.75150076, 29336.93946376,\n",
       "       32211.53976291, 29142.05130789, 26747.71110714, 32306.53823899,\n",
       "       39322.51185048, 33392.34367887, 38104.46087626, 42288.295147  ,\n",
       "       34483.49041206, 30250.58785496, 25337.6604957 , 26743.42660851,\n",
       "       27481.21748432, 29221.29030463, 28105.55822789, 30103.16182561,\n",
       "       26497.73094193, 26338.41922243, 25517.10485124, 30173.53971839,\n",
       "       29275.66214311, 23992.80106065, 29903.1559974 , 34747.51872913,\n",
       "       33564.26921132, 29510.7589229 , 28849.53125118, 32239.19310515,\n",
       "       30625.17877953, 26309.79818516, 31905.87237527, 27931.54605369,\n",
       "       25218.81342253, 20604.14030307, 13650.80931312, 21648.18399526,\n",
       "       20959.11515841, 22650.46593975, 24745.5136154 , 18745.74253098,\n",
       "       20200.44340876, 19281.68495964, 23457.85972838, 21585.54137372,\n",
       "       23211.77852095, 22863.76395689, 20532.06637767, 18214.28938102,\n",
       "       23135.21531686, 23246.57997736, 22418.30531489, 20824.39861149,\n",
       "       23080.85804482, 26317.3934906 , 25001.89843844, 22328.7546012 ,\n",
       "       24590.8492676 , 21362.9872583 , 21321.22551062, 19421.06599084,\n",
       "       18251.73705559, 18432.7046289 , 19574.19239903, 19059.13084421,\n",
       "       18940.80589243, 34598.39916861, 27955.11783894, 27608.60898316,\n",
       "       28847.54083122, 22156.45251843, 21349.05872981, 26935.47138057,\n",
       "       28725.90179808, 27751.4913663 , 24626.32058102, 27206.8476997 ,\n",
       "       22369.44525925, 29797.94162924, 16422.6434128 , 18322.80293258,\n",
       "       16306.8429966 , 17580.57630107, 15715.2182377 , 15610.81386848,\n",
       "       17601.45717491, 16578.29435657, 10390.59540755, 13460.08386258,\n",
       "       35064.31511018, -1261.44508658,  8496.88328971,  2318.63282253,\n",
       "       10023.67527086, 21946.65423561, 24264.43123226, 18696.19820728,\n",
       "       15694.13442221,  8949.61217069,  3604.1084667 , 25652.06535558,\n",
       "       21030.43194484, 22039.67418062, 19158.11359019, 18065.34785904,\n",
       "       23250.76486356, 20306.56165159, 12790.9377681 , 12679.5731076 ,\n",
       "        4661.31755162, 10988.22232626,  6638.04027549,  9060.22164136,\n",
       "        8224.98668761, 11774.73524104, 14022.90932488, 16375.48777794,\n",
       "        9310.79212749, 17482.77430764, 15352.92517558, 19417.73528382,\n",
       "       18958.35605926, 14378.4843962 , 12332.15875952, 15109.31498073,\n",
       "       16048.9543037 , 18526.81799982, 18951.39576798, 11608.28846627,\n",
       "       12875.06147946, 13933.02575421,  3757.01225382, 13988.64043724,\n",
       "       15104.62025894, 23700.57999127, 16079.06103832, 22343.32319143,\n",
       "        8220.8921818 , 11888.96568701,  5831.24670285, 19398.05484194,\n",
       "       21820.23620781, 11532.92569414, 16077.99590079, 21449.98536409,\n",
       "       18575.38506494, 15756.46709604, 15031.5710241 , 18198.50355706,\n",
       "       14963.54613816, 15653.41813263, 16856.74536666, 17783.26726469,\n",
       "       17720.62464316, 19022.19911275, 20413.45421137, 23789.19548277,\n",
       "       20949.39664002, 18834.33889537, 17247.39248325, 19718.96375128,\n",
       "       18549.63481604, 16398.90481014, 14888.52160211, 12744.75188749,\n",
       "       14074.1675222 , 18166.81879557, 16865.24432598, 18716.68180679,\n",
       "       14324.73800833, 18535.71423347, 17714.39986229, 17087.97364698,\n",
       "       17087.30578378, 18702.09336103, 21012.9100664 , 20358.64268596,\n",
       "       17866.85840728, 25495.33765151, 20866.74394949, 19453.8048194 ,\n",
       "       15632.604906  , 15354.19325475, 17894.6995724 , 16363.43549053,\n",
       "       20678.8160849 , 18416.7214185 , 18006.0642329 , 19370.28132403,\n",
       "       18239.73273598, 15107.60165943, 16450.93787671, 18012.15371934,\n",
       "       17544.16852941, 16061.62648651, 19221.59872819, 20468.62365227,\n",
       "       21100.87737412, 24302.6790107 , 14003.02594135, 19118.84003306,\n",
       "       20850.37453521, 12637.23082335, 18769.24744212, 19075.5002585 ,\n",
       "       20559.10743893, 24094.9354098 , 26259.58599826, 17218.16762394,\n",
       "       17110.3845799 , 20179.87303492, 18801.73536124, 17347.03448346,\n",
       "       13884.4534654 , 13606.04181415, 11371.78831287, 17566.44755317,\n",
       "       17566.44755317, 17117.24220499, 18641.54599558, 16859.71142759,\n",
       "       14910.82986884, 17722.78754646, 19288.85308474, 16156.72200818,\n",
       "       19344.53541499, 21359.74877009, 18067.53099407, 24025.54033081,\n",
       "       22758.76731762, 17441.10477876])"
      ]
     },
     "execution_count": 10,
     "metadata": {},
     "output_type": "execute_result"
    }
   ],
   "source": [
    "modelII.predict(df[columns])"
   ]
  },
  {
   "cell_type": "markdown",
   "metadata": {},
   "source": [
    "**Compute R2 score:** `model.score(df[columns], df['median_price'])`"
   ]
  },
  {
   "cell_type": "code",
   "execution_count": 11,
   "metadata": {},
   "outputs": [
    {
     "data": {
      "text/plain": [
       "0.602540275713765"
      ]
     },
     "execution_count": 11,
     "metadata": {},
     "output_type": "execute_result"
    }
   ],
   "source": [
    "modelII.score(df[columns], df['median_price'])"
   ]
  },
  {
   "cell_type": "markdown",
   "metadata": {},
   "source": [
    "**Measure importance of inputs:**  \n",
    "Note that we're going to wrap our model in a preprocessor `sklearn.preprocessing.StandardScaler` which normalizes the data. This is a little bit of an advanced technique. (It used to be eaiser but `scikit-learn` deleted the functionality that used to be built into `LinearRegression`. Previously, you could just initialize your model as\n",
    "```python\n",
    "model = LinearRegression(normalize=True)\n",
    "```\n",
    ")  \n",
    "The first cell below is just meant to visualize for you what `StandardScaler` does to data, so you can see what model sees when we wrap it with `StandardScaler`."
   ]
  },
  {
   "cell_type": "code",
   "execution_count": 12,
   "metadata": {
    "tags": []
   },
   "outputs": [
    {
     "data": {
      "text/plain": [
       "array([[ 0.41367189, -1.45900038, -0.14421743],\n",
       "       [ 0.19427445, -0.30309415, -0.74026221],\n",
       "       [ 1.28271368, -0.30309415, -0.74026221],\n",
       "       ...,\n",
       "       [ 0.98496002,  1.17646583,  0.15812412],\n",
       "       [ 0.72567214,  1.17646583,  0.15812412],\n",
       "       [-0.36276709,  1.17646583,  0.15812412]])"
      ]
     },
     "execution_count": 12,
     "metadata": {},
     "output_type": "execute_result"
    }
   ],
   "source": [
    "encoder = sklearn.preprocessing.StandardScaler()\n",
    "encoder.fit_transform(df[columns])"
   ]
  },
  {
   "cell_type": "code",
   "execution_count": 13,
   "metadata": {
    "tags": []
   },
   "outputs": [],
   "source": [
    "from sklearn.pipeline import make_pipeline"
   ]
  },
  {
   "cell_type": "code",
   "execution_count": 14,
   "metadata": {},
   "outputs": [
    {
     "name": "stdout",
     "output_type": "stream",
     "text": [
      "`modelII` is now composed of two steps contained in the following dictionry, which is located at `modelII.named_steps`:\n",
      "{'standardscaler': StandardScaler(), 'linearregression': LinearRegression()}\n",
      "\n",
      "[ 4885.58515663 -2557.13651674 -1966.73541719]\n",
      "\n",
      "importance of avg_num_rooms: 4886\n",
      "importance of student_teacher_ratio: -2557\n",
      "importance of nitrous: -1967\n"
     ]
    }
   ],
   "source": [
    "modelII = make_pipeline( sklearn.preprocessing.StandardScaler(),\n",
    "                        LinearRegression() )\n",
    "modelII.fit(df[columns], df['median_price'])\n",
    "\n",
    "print('`modelII` is now composed of two steps contained in the following '\n",
    "      'dictionry, which is located at `modelII.named_steps`:')\n",
    "print(modelII.named_steps)\n",
    "\n",
    "# Whereas before we could see the feature coefficients by calling\n",
    "# `model.coef_`, we now need to step into the linear regression part of\n",
    "# the pipeline first\n",
    "print('')\n",
    "print(modelII.named_steps['linearregression'].coef_)\n",
    "print('')\n",
    "\n",
    "importances = modelII.named_steps['linearregression'].coef_\n",
    "for col, importance in zip(columns, importances):\n",
    "    print('importance of {0:s}: {1:0.0f}'.format(col, importance))"
   ]
  },
  {
   "cell_type": "markdown",
   "metadata": {},
   "source": [
    "### Exercises\n",
    "---"
   ]
  },
  {
   "cell_type": "markdown",
   "metadata": {},
   "source": [
    "**1. What is the R2 score for your single-variable linear model for** `median_price`?"
   ]
  },
  {
   "cell_type": "code",
   "execution_count": 15,
   "metadata": {},
   "outputs": [
    {
     "name": "stdout",
     "output_type": "stream",
     "text": [
      "0.23399003044447497\n"
     ]
    }
   ],
   "source": [
    "print(modelI2.score(df[[\"office_percent\"]], df['median_price']))"
   ]
  },
  {
   "cell_type": "markdown",
   "metadata": {},
   "source": [
    "**2. Retrain your model using the three features you think are most important to home price**"
   ]
  },
  {
   "cell_type": "code",
   "execution_count": 16,
   "metadata": {},
   "outputs": [],
   "source": [
    "#already done for modelII"
   ]
  },
  {
   "cell_type": "markdown",
   "metadata": {},
   "source": [
    "**3. What is the R2 score for your new three-variable linear model for median_price?**"
   ]
  },
  {
   "cell_type": "code",
   "execution_count": 17,
   "metadata": {},
   "outputs": [
    {
     "data": {
      "text/plain": [
       "0.6025402757137649"
      ]
     },
     "execution_count": 17,
     "metadata": {},
     "output_type": "execute_result"
    }
   ],
   "source": [
    "modelII.score(df[columns], df['median_price'])"
   ]
  },
  {
   "cell_type": "markdown",
   "metadata": {},
   "source": [
    "**4. Create a model with normalized features. Retrain your model using all available column data, minus `median_price` of course!**"
   ]
  },
  {
   "cell_type": "code",
   "execution_count": 18,
   "metadata": {},
   "outputs": [
    {
     "data": {
      "text/html": [
       "<style>#sk-container-id-4 {color: black;background-color: white;}#sk-container-id-4 pre{padding: 0;}#sk-container-id-4 div.sk-toggleable {background-color: white;}#sk-container-id-4 label.sk-toggleable__label {cursor: pointer;display: block;width: 100%;margin-bottom: 0;padding: 0.3em;box-sizing: border-box;text-align: center;}#sk-container-id-4 label.sk-toggleable__label-arrow:before {content: \"▸\";float: left;margin-right: 0.25em;color: #696969;}#sk-container-id-4 label.sk-toggleable__label-arrow:hover:before {color: black;}#sk-container-id-4 div.sk-estimator:hover label.sk-toggleable__label-arrow:before {color: black;}#sk-container-id-4 div.sk-toggleable__content {max-height: 0;max-width: 0;overflow: hidden;text-align: left;background-color: #f0f8ff;}#sk-container-id-4 div.sk-toggleable__content pre {margin: 0.2em;color: black;border-radius: 0.25em;background-color: #f0f8ff;}#sk-container-id-4 input.sk-toggleable__control:checked~div.sk-toggleable__content {max-height: 200px;max-width: 100%;overflow: auto;}#sk-container-id-4 input.sk-toggleable__control:checked~label.sk-toggleable__label-arrow:before {content: \"▾\";}#sk-container-id-4 div.sk-estimator input.sk-toggleable__control:checked~label.sk-toggleable__label {background-color: #d4ebff;}#sk-container-id-4 div.sk-label input.sk-toggleable__control:checked~label.sk-toggleable__label {background-color: #d4ebff;}#sk-container-id-4 input.sk-hidden--visually {border: 0;clip: rect(1px 1px 1px 1px);clip: rect(1px, 1px, 1px, 1px);height: 1px;margin: -1px;overflow: hidden;padding: 0;position: absolute;width: 1px;}#sk-container-id-4 div.sk-estimator {font-family: monospace;background-color: #f0f8ff;border: 1px dotted black;border-radius: 0.25em;box-sizing: border-box;margin-bottom: 0.5em;}#sk-container-id-4 div.sk-estimator:hover {background-color: #d4ebff;}#sk-container-id-4 div.sk-parallel-item::after {content: \"\";width: 100%;border-bottom: 1px solid gray;flex-grow: 1;}#sk-container-id-4 div.sk-label:hover label.sk-toggleable__label {background-color: #d4ebff;}#sk-container-id-4 div.sk-serial::before {content: \"\";position: absolute;border-left: 1px solid gray;box-sizing: border-box;top: 0;bottom: 0;left: 50%;z-index: 0;}#sk-container-id-4 div.sk-serial {display: flex;flex-direction: column;align-items: center;background-color: white;padding-right: 0.2em;padding-left: 0.2em;position: relative;}#sk-container-id-4 div.sk-item {position: relative;z-index: 1;}#sk-container-id-4 div.sk-parallel {display: flex;align-items: stretch;justify-content: center;background-color: white;position: relative;}#sk-container-id-4 div.sk-item::before, #sk-container-id-4 div.sk-parallel-item::before {content: \"\";position: absolute;border-left: 1px solid gray;box-sizing: border-box;top: 0;bottom: 0;left: 50%;z-index: -1;}#sk-container-id-4 div.sk-parallel-item {display: flex;flex-direction: column;z-index: 1;position: relative;background-color: white;}#sk-container-id-4 div.sk-parallel-item:first-child::after {align-self: flex-end;width: 50%;}#sk-container-id-4 div.sk-parallel-item:last-child::after {align-self: flex-start;width: 50%;}#sk-container-id-4 div.sk-parallel-item:only-child::after {width: 0;}#sk-container-id-4 div.sk-dashed-wrapped {border: 1px dashed gray;margin: 0 0.4em 0.5em 0.4em;box-sizing: border-box;padding-bottom: 0.4em;background-color: white;}#sk-container-id-4 div.sk-label label {font-family: monospace;font-weight: bold;display: inline-block;line-height: 1.2em;}#sk-container-id-4 div.sk-label-container {text-align: center;}#sk-container-id-4 div.sk-container {/* jupyter's `normalize.less` sets `[hidden] { display: none; }` but bootstrap.min.css set `[hidden] { display: none !important; }` so we also need the `!important` here to be able to override the default hidden behavior on the sphinx rendered scikit-learn.org. See: https://github.com/scikit-learn/scikit-learn/issues/21755 */display: inline-block !important;position: relative;}#sk-container-id-4 div.sk-text-repr-fallback {display: none;}</style><div id=\"sk-container-id-4\" class=\"sk-top-container\"><div class=\"sk-text-repr-fallback\"><pre>Pipeline(steps=[(&#x27;standardscaler&#x27;, StandardScaler()),\n",
       "                (&#x27;linearregression&#x27;, LinearRegression())])</pre><b>In a Jupyter environment, please rerun this cell to show the HTML representation or trust the notebook. <br />On GitHub, the HTML representation is unable to render, please try loading this page with nbviewer.org.</b></div><div class=\"sk-container\" hidden><div class=\"sk-item sk-dashed-wrapped\"><div class=\"sk-label-container\"><div class=\"sk-label sk-toggleable\"><input class=\"sk-toggleable__control sk-hidden--visually\" id=\"sk-estimator-id-4\" type=\"checkbox\" ><label for=\"sk-estimator-id-4\" class=\"sk-toggleable__label sk-toggleable__label-arrow\">Pipeline</label><div class=\"sk-toggleable__content\"><pre>Pipeline(steps=[(&#x27;standardscaler&#x27;, StandardScaler()),\n",
       "                (&#x27;linearregression&#x27;, LinearRegression())])</pre></div></div></div><div class=\"sk-serial\"><div class=\"sk-item\"><div class=\"sk-estimator sk-toggleable\"><input class=\"sk-toggleable__control sk-hidden--visually\" id=\"sk-estimator-id-5\" type=\"checkbox\" ><label for=\"sk-estimator-id-5\" class=\"sk-toggleable__label sk-toggleable__label-arrow\">StandardScaler</label><div class=\"sk-toggleable__content\"><pre>StandardScaler()</pre></div></div></div><div class=\"sk-item\"><div class=\"sk-estimator sk-toggleable\"><input class=\"sk-toggleable__control sk-hidden--visually\" id=\"sk-estimator-id-6\" type=\"checkbox\" ><label for=\"sk-estimator-id-6\" class=\"sk-toggleable__label sk-toggleable__label-arrow\">LinearRegression</label><div class=\"sk-toggleable__content\"><pre>LinearRegression()</pre></div></div></div></div></div></div></div>"
      ],
      "text/plain": [
       "Pipeline(steps=[('standardscaler', StandardScaler()),\n",
       "                ('linearregression', LinearRegression())])"
      ]
     },
     "execution_count": 18,
     "metadata": {},
     "output_type": "execute_result"
    }
   ],
   "source": [
    "#modelII is already normalized.\n",
    "dfd = df.drop(\"median_price\", axis=\"columns\")\n",
    "modelII.fit(dfd, df['median_price'])"
   ]
  },
  {
   "cell_type": "markdown",
   "metadata": {},
   "source": [
    "**5. Output the coefficients of the linear model using** `.coef_`. **Which feature is the most important? What factor is the most damaging for a house's price?** "
   ]
  },
  {
   "cell_type": "code",
   "execution_count": 19,
   "metadata": {},
   "outputs": [
    {
     "data": {
      "text/html": [
       "<div>\n",
       "<style scoped>\n",
       "    .dataframe tbody tr th:only-of-type {\n",
       "        vertical-align: middle;\n",
       "    }\n",
       "\n",
       "    .dataframe tbody tr th {\n",
       "        vertical-align: top;\n",
       "    }\n",
       "\n",
       "    .dataframe thead th {\n",
       "        text-align: right;\n",
       "    }\n",
       "</style>\n",
       "<table border=\"1\" class=\"dataframe\">\n",
       "  <thead>\n",
       "    <tr style=\"text-align: right;\">\n",
       "      <th></th>\n",
       "      <th>coefficients</th>\n",
       "      <th>names</th>\n",
       "    </tr>\n",
       "  </thead>\n",
       "  <tbody>\n",
       "    <tr>\n",
       "      <th>7</th>\n",
       "      <td>-3331.836404</td>\n",
       "      <td>distance_to_city</td>\n",
       "    </tr>\n",
       "    <tr>\n",
       "      <th>4</th>\n",
       "      <td>-2567.870105</td>\n",
       "      <td>nitrous</td>\n",
       "    </tr>\n",
       "    <tr>\n",
       "      <th>10</th>\n",
       "      <td>-2154.599847</td>\n",
       "      <td>student_teacher_ratio</td>\n",
       "    </tr>\n",
       "    <tr>\n",
       "      <th>9</th>\n",
       "      <td>-2056.245661</td>\n",
       "      <td>tax_rate</td>\n",
       "    </tr>\n",
       "    <tr>\n",
       "      <th>0</th>\n",
       "      <td>-1581.395643</td>\n",
       "      <td>crime_rate</td>\n",
       "    </tr>\n",
       "    <tr>\n",
       "      <th>6</th>\n",
       "      <td>-1270.734687</td>\n",
       "      <td>pre_1940</td>\n",
       "    </tr>\n",
       "    <tr>\n",
       "      <th>2</th>\n",
       "      <td>-290.073930</td>\n",
       "      <td>office_percent</td>\n",
       "    </tr>\n",
       "    <tr>\n",
       "      <th>3</th>\n",
       "      <td>884.935657</td>\n",
       "      <td>charles_river</td>\n",
       "    </tr>\n",
       "    <tr>\n",
       "      <th>1</th>\n",
       "      <td>911.004148</td>\n",
       "      <td>big_lots_percent</td>\n",
       "    </tr>\n",
       "    <tr>\n",
       "      <th>8</th>\n",
       "      <td>2215.737463</td>\n",
       "      <td>highway_access</td>\n",
       "    </tr>\n",
       "    <tr>\n",
       "      <th>5</th>\n",
       "      <td>4264.701683</td>\n",
       "      <td>avg_num_rooms</td>\n",
       "    </tr>\n",
       "  </tbody>\n",
       "</table>\n",
       "</div>"
      ],
      "text/plain": [
       "    coefficients                  names\n",
       "7   -3331.836404       distance_to_city\n",
       "4   -2567.870105                nitrous\n",
       "10  -2154.599847  student_teacher_ratio\n",
       "9   -2056.245661               tax_rate\n",
       "0   -1581.395643             crime_rate\n",
       "6   -1270.734687               pre_1940\n",
       "2    -290.073930         office_percent\n",
       "3     884.935657          charles_river\n",
       "1     911.004148       big_lots_percent\n",
       "8    2215.737463         highway_access\n",
       "5    4264.701683          avg_num_rooms"
      ]
     },
     "execution_count": 19,
     "metadata": {},
     "output_type": "execute_result"
    }
   ],
   "source": [
    "answers = pd.DataFrame({\"coefficients\": \n",
    "                            modelII.named_steps['linearregression'].coef_, \n",
    "                        \"names\": \n",
    "                            df.columns[:-1]})\n",
    "answers.sort_values('coefficients')"
   ]
  },
  {
   "cell_type": "markdown",
   "metadata": {},
   "source": [
    "## III. Linear Regression Assumptions\n",
    "\n",
    "### Warm Ups\n",
    "---"
   ]
  },
  {
   "cell_type": "markdown",
   "metadata": {},
   "source": [
    "**Use a scatter plot to check for linearity and equal variance:** \n",
    "```python\n",
    "df.plot.scatter(x='nitrous', y='median_price')\n",
    "```"
   ]
  },
  {
   "cell_type": "code",
   "execution_count": 20,
   "metadata": {},
   "outputs": [
    {
     "data": {
      "text/plain": [
       "<Axes: xlabel='nitrous', ylabel='median_price'>"
      ]
     },
     "execution_count": 20,
     "metadata": {},
     "output_type": "execute_result"
    },
    {
     "data": {
      "image/png": "[encoded data removed]",
      "text/plain": [
       "<Figure size 640x480 with 1 Axes>"
      ]
     },
     "metadata": {},
     "output_type": "display_data"
    }
   ],
   "source": [
    "df.plot.scatter(x='nitrous', y='median_price')"
   ]
  },
  {
   "cell_type": "markdown",
   "metadata": {},
   "source": [
    "**Use a correlation matrix to check for dependence between variables:** `df.corr()`"
   ]
  },
  {
   "cell_type": "code",
   "execution_count": 21,
   "metadata": {},
   "outputs": [
    {
     "data": {
      "text/html": [
       "<style type=\"text/css\">\n",
       "#T_6f416_row0_col0, #T_6f416_row0_col1, #T_6f416_row0_col2, #T_6f416_row0_col3, #T_6f416_row0_col4, #T_6f416_row0_col5, #T_6f416_row0_col6, #T_6f416_row0_col7, #T_6f416_row0_col8, #T_6f416_row0_col9, #T_6f416_row0_col10, #T_6f416_row0_col11, #T_6f416_row1_col0, #T_6f416_row1_col1, #T_6f416_row1_col2, #T_6f416_row1_col3, #T_6f416_row1_col4, #T_6f416_row1_col5, #T_6f416_row1_col6, #T_6f416_row1_col7, #T_6f416_row1_col8, #T_6f416_row1_col9, #T_6f416_row1_col10, #T_6f416_row1_col11, #T_6f416_row2_col0, #T_6f416_row2_col1, #T_6f416_row2_col2, #T_6f416_row2_col3, #T_6f416_row2_col5, #T_6f416_row2_col6, #T_6f416_row2_col8, #T_6f416_row2_col10, #T_6f416_row2_col11, #T_6f416_row3_col0, #T_6f416_row3_col1, #T_6f416_row3_col2, #T_6f416_row3_col3, #T_6f416_row3_col4, #T_6f416_row3_col5, #T_6f416_row3_col6, #T_6f416_row3_col7, #T_6f416_row3_col8, #T_6f416_row3_col9, #T_6f416_row3_col10, #T_6f416_row3_col11, #T_6f416_row4_col0, #T_6f416_row4_col1, #T_6f416_row4_col3, #T_6f416_row4_col4, #T_6f416_row4_col5, #T_6f416_row4_col8, #T_6f416_row4_col9, #T_6f416_row4_col10, #T_6f416_row4_col11, #T_6f416_row5_col0, #T_6f416_row5_col1, #T_6f416_row5_col2, #T_6f416_row5_col3, #T_6f416_row5_col4, #T_6f416_row5_col5, #T_6f416_row5_col6, #T_6f416_row5_col7, #T_6f416_row5_col8, #T_6f416_row5_col9, #T_6f416_row5_col10, #T_6f416_row5_col11, #T_6f416_row6_col0, #T_6f416_row6_col1, #T_6f416_row6_col2, #T_6f416_row6_col3, #T_6f416_row6_col5, #T_6f416_row6_col6, #T_6f416_row6_col8, #T_6f416_row6_col9, #T_6f416_row6_col10, #T_6f416_row6_col11, #T_6f416_row7_col0, #T_6f416_row7_col1, #T_6f416_row7_col3, #T_6f416_row7_col5, #T_6f416_row7_col7, #T_6f416_row7_col8, #T_6f416_row7_col9, #T_6f416_row7_col10, #T_6f416_row7_col11, #T_6f416_row8_col0, #T_6f416_row8_col1, #T_6f416_row8_col2, #T_6f416_row8_col3, #T_6f416_row8_col4, #T_6f416_row8_col5, #T_6f416_row8_col6, #T_6f416_row8_col7, #T_6f416_row8_col8, #T_6f416_row8_col10, #T_6f416_row8_col11, #T_6f416_row9_col0, #T_6f416_row9_col1, #T_6f416_row9_col3, #T_6f416_row9_col4, #T_6f416_row9_col5, #T_6f416_row9_col6, #T_6f416_row9_col7, #T_6f416_row9_col9, #T_6f416_row9_col10, #T_6f416_row9_col11, #T_6f416_row10_col0, #T_6f416_row10_col1, #T_6f416_row10_col2, #T_6f416_row10_col3, #T_6f416_row10_col4, #T_6f416_row10_col5, #T_6f416_row10_col6, #T_6f416_row10_col7, #T_6f416_row10_col8, #T_6f416_row10_col9, #T_6f416_row10_col10, #T_6f416_row10_col11, #T_6f416_row11_col0, #T_6f416_row11_col1, #T_6f416_row11_col2, #T_6f416_row11_col3, #T_6f416_row11_col4, #T_6f416_row11_col5, #T_6f416_row11_col6, #T_6f416_row11_col7, #T_6f416_row11_col8, #T_6f416_row11_col9, #T_6f416_row11_col10, #T_6f416_row11_col11 {\n",
       "  color: black;\n",
       "}\n",
       "#T_6f416_row2_col4, #T_6f416_row2_col7, #T_6f416_row2_col9, #T_6f416_row4_col2, #T_6f416_row4_col6, #T_6f416_row4_col7, #T_6f416_row6_col4, #T_6f416_row6_col7, #T_6f416_row7_col2, #T_6f416_row7_col4, #T_6f416_row7_col6, #T_6f416_row8_col9, #T_6f416_row9_col2, #T_6f416_row9_col8 {\n",
       "  color: red;\n",
       "}\n",
       "</style>\n",
       "<table id=\"T_6f416\">\n",
       "  <thead>\n",
       "    <tr>\n",
       "      <th class=\"blank level0\" >&nbsp;</th>\n",
       "      <th id=\"T_6f416_level0_col0\" class=\"col_heading level0 col0\" >crime_rate</th>\n",
       "      <th id=\"T_6f416_level0_col1\" class=\"col_heading level0 col1\" >big_lots_percent</th>\n",
       "      <th id=\"T_6f416_level0_col2\" class=\"col_heading level0 col2\" >office_percent</th>\n",
       "      <th id=\"T_6f416_level0_col3\" class=\"col_heading level0 col3\" >charles_river</th>\n",
       "      <th id=\"T_6f416_level0_col4\" class=\"col_heading level0 col4\" >nitrous</th>\n",
       "      <th id=\"T_6f416_level0_col5\" class=\"col_heading level0 col5\" >avg_num_rooms</th>\n",
       "      <th id=\"T_6f416_level0_col6\" class=\"col_heading level0 col6\" >pre_1940</th>\n",
       "      <th id=\"T_6f416_level0_col7\" class=\"col_heading level0 col7\" >distance_to_city</th>\n",
       "      <th id=\"T_6f416_level0_col8\" class=\"col_heading level0 col8\" >highway_access</th>\n",
       "      <th id=\"T_6f416_level0_col9\" class=\"col_heading level0 col9\" >tax_rate</th>\n",
       "      <th id=\"T_6f416_level0_col10\" class=\"col_heading level0 col10\" >student_teacher_ratio</th>\n",
       "      <th id=\"T_6f416_level0_col11\" class=\"col_heading level0 col11\" >median_price</th>\n",
       "    </tr>\n",
       "  </thead>\n",
       "  <tbody>\n",
       "    <tr>\n",
       "      <th id=\"T_6f416_level0_row0\" class=\"row_heading level0 row0\" >crime_rate</th>\n",
       "      <td id=\"T_6f416_row0_col0\" class=\"data row0 col0\" >1.000000</td>\n",
       "      <td id=\"T_6f416_row0_col1\" class=\"data row0 col1\" >-0.200469</td>\n",
       "      <td id=\"T_6f416_row0_col2\" class=\"data row0 col2\" >0.406583</td>\n",
       "      <td id=\"T_6f416_row0_col3\" class=\"data row0 col3\" >-0.055892</td>\n",
       "      <td id=\"T_6f416_row0_col4\" class=\"data row0 col4\" >0.420972</td>\n",
       "      <td id=\"T_6f416_row0_col5\" class=\"data row0 col5\" >-0.219247</td>\n",
       "      <td id=\"T_6f416_row0_col6\" class=\"data row0 col6\" >0.352734</td>\n",
       "      <td id=\"T_6f416_row0_col7\" class=\"data row0 col7\" >-0.379670</td>\n",
       "      <td id=\"T_6f416_row0_col8\" class=\"data row0 col8\" >0.625505</td>\n",
       "      <td id=\"T_6f416_row0_col9\" class=\"data row0 col9\" >0.582764</td>\n",
       "      <td id=\"T_6f416_row0_col10\" class=\"data row0 col10\" >0.289946</td>\n",
       "      <td id=\"T_6f416_row0_col11\" class=\"data row0 col11\" >-0.388305</td>\n",
       "    </tr>\n",
       "    <tr>\n",
       "      <th id=\"T_6f416_level0_row1\" class=\"row_heading level0 row1\" >big_lots_percent</th>\n",
       "      <td id=\"T_6f416_row1_col0\" class=\"data row1 col0\" >-0.200469</td>\n",
       "      <td id=\"T_6f416_row1_col1\" class=\"data row1 col1\" >1.000000</td>\n",
       "      <td id=\"T_6f416_row1_col2\" class=\"data row1 col2\" >-0.533828</td>\n",
       "      <td id=\"T_6f416_row1_col3\" class=\"data row1 col3\" >-0.042697</td>\n",
       "      <td id=\"T_6f416_row1_col4\" class=\"data row1 col4\" >-0.516604</td>\n",
       "      <td id=\"T_6f416_row1_col5\" class=\"data row1 col5\" >0.311991</td>\n",
       "      <td id=\"T_6f416_row1_col6\" class=\"data row1 col6\" >-0.569537</td>\n",
       "      <td id=\"T_6f416_row1_col7\" class=\"data row1 col7\" >0.664408</td>\n",
       "      <td id=\"T_6f416_row1_col8\" class=\"data row1 col8\" >-0.311948</td>\n",
       "      <td id=\"T_6f416_row1_col9\" class=\"data row1 col9\" >-0.314563</td>\n",
       "      <td id=\"T_6f416_row1_col10\" class=\"data row1 col10\" >-0.391679</td>\n",
       "      <td id=\"T_6f416_row1_col11\" class=\"data row1 col11\" >0.360445</td>\n",
       "    </tr>\n",
       "    <tr>\n",
       "      <th id=\"T_6f416_level0_row2\" class=\"row_heading level0 row2\" >office_percent</th>\n",
       "      <td id=\"T_6f416_row2_col0\" class=\"data row2 col0\" >0.406583</td>\n",
       "      <td id=\"T_6f416_row2_col1\" class=\"data row2 col1\" >-0.533828</td>\n",
       "      <td id=\"T_6f416_row2_col2\" class=\"data row2 col2\" >1.000000</td>\n",
       "      <td id=\"T_6f416_row2_col3\" class=\"data row2 col3\" >0.062938</td>\n",
       "      <td id=\"T_6f416_row2_col4\" class=\"data row2 col4\" >0.763651</td>\n",
       "      <td id=\"T_6f416_row2_col5\" class=\"data row2 col5\" >-0.391676</td>\n",
       "      <td id=\"T_6f416_row2_col6\" class=\"data row2 col6\" >0.644779</td>\n",
       "      <td id=\"T_6f416_row2_col7\" class=\"data row2 col7\" >-0.708027</td>\n",
       "      <td id=\"T_6f416_row2_col8\" class=\"data row2 col8\" >0.595129</td>\n",
       "      <td id=\"T_6f416_row2_col9\" class=\"data row2 col9\" >0.720760</td>\n",
       "      <td id=\"T_6f416_row2_col10\" class=\"data row2 col10\" >0.383248</td>\n",
       "      <td id=\"T_6f416_row2_col11\" class=\"data row2 col11\" >-0.483725</td>\n",
       "    </tr>\n",
       "    <tr>\n",
       "      <th id=\"T_6f416_level0_row3\" class=\"row_heading level0 row3\" >charles_river</th>\n",
       "      <td id=\"T_6f416_row3_col0\" class=\"data row3 col0\" >-0.055892</td>\n",
       "      <td id=\"T_6f416_row3_col1\" class=\"data row3 col1\" >-0.042697</td>\n",
       "      <td id=\"T_6f416_row3_col2\" class=\"data row3 col2\" >0.062938</td>\n",
       "      <td id=\"T_6f416_row3_col3\" class=\"data row3 col3\" >1.000000</td>\n",
       "      <td id=\"T_6f416_row3_col4\" class=\"data row3 col4\" >0.091203</td>\n",
       "      <td id=\"T_6f416_row3_col5\" class=\"data row3 col5\" >0.091251</td>\n",
       "      <td id=\"T_6f416_row3_col6\" class=\"data row3 col6\" >0.086518</td>\n",
       "      <td id=\"T_6f416_row3_col7\" class=\"data row3 col7\" >-0.099176</td>\n",
       "      <td id=\"T_6f416_row3_col8\" class=\"data row3 col8\" >-0.007368</td>\n",
       "      <td id=\"T_6f416_row3_col9\" class=\"data row3 col9\" >-0.035587</td>\n",
       "      <td id=\"T_6f416_row3_col10\" class=\"data row3 col10\" >-0.121515</td>\n",
       "      <td id=\"T_6f416_row3_col11\" class=\"data row3 col11\" >0.175260</td>\n",
       "    </tr>\n",
       "    <tr>\n",
       "      <th id=\"T_6f416_level0_row4\" class=\"row_heading level0 row4\" >nitrous</th>\n",
       "      <td id=\"T_6f416_row4_col0\" class=\"data row4 col0\" >0.420972</td>\n",
       "      <td id=\"T_6f416_row4_col1\" class=\"data row4 col1\" >-0.516604</td>\n",
       "      <td id=\"T_6f416_row4_col2\" class=\"data row4 col2\" >0.763651</td>\n",
       "      <td id=\"T_6f416_row4_col3\" class=\"data row4 col3\" >0.091203</td>\n",
       "      <td id=\"T_6f416_row4_col4\" class=\"data row4 col4\" >1.000000</td>\n",
       "      <td id=\"T_6f416_row4_col5\" class=\"data row4 col5\" >-0.302188</td>\n",
       "      <td id=\"T_6f416_row4_col6\" class=\"data row4 col6\" >0.731470</td>\n",
       "      <td id=\"T_6f416_row4_col7\" class=\"data row4 col7\" >-0.769230</td>\n",
       "      <td id=\"T_6f416_row4_col8\" class=\"data row4 col8\" >0.611441</td>\n",
       "      <td id=\"T_6f416_row4_col9\" class=\"data row4 col9\" >0.668023</td>\n",
       "      <td id=\"T_6f416_row4_col10\" class=\"data row4 col10\" >0.188933</td>\n",
       "      <td id=\"T_6f416_row4_col11\" class=\"data row4 col11\" >-0.427321</td>\n",
       "    </tr>\n",
       "    <tr>\n",
       "      <th id=\"T_6f416_level0_row5\" class=\"row_heading level0 row5\" >avg_num_rooms</th>\n",
       "      <td id=\"T_6f416_row5_col0\" class=\"data row5 col0\" >-0.219247</td>\n",
       "      <td id=\"T_6f416_row5_col1\" class=\"data row5 col1\" >0.311991</td>\n",
       "      <td id=\"T_6f416_row5_col2\" class=\"data row5 col2\" >-0.391676</td>\n",
       "      <td id=\"T_6f416_row5_col3\" class=\"data row5 col3\" >0.091251</td>\n",
       "      <td id=\"T_6f416_row5_col4\" class=\"data row5 col4\" >-0.302188</td>\n",
       "      <td id=\"T_6f416_row5_col5\" class=\"data row5 col5\" >1.000000</td>\n",
       "      <td id=\"T_6f416_row5_col6\" class=\"data row5 col6\" >-0.240265</td>\n",
       "      <td id=\"T_6f416_row5_col7\" class=\"data row5 col7\" >0.205246</td>\n",
       "      <td id=\"T_6f416_row5_col8\" class=\"data row5 col8\" >-0.209847</td>\n",
       "      <td id=\"T_6f416_row5_col9\" class=\"data row5 col9\" >-0.292048</td>\n",
       "      <td id=\"T_6f416_row5_col10\" class=\"data row5 col10\" >-0.355501</td>\n",
       "      <td id=\"T_6f416_row5_col11\" class=\"data row5 col11\" >0.695360</td>\n",
       "    </tr>\n",
       "    <tr>\n",
       "      <th id=\"T_6f416_level0_row6\" class=\"row_heading level0 row6\" >pre_1940</th>\n",
       "      <td id=\"T_6f416_row6_col0\" class=\"data row6 col0\" >0.352734</td>\n",
       "      <td id=\"T_6f416_row6_col1\" class=\"data row6 col1\" >-0.569537</td>\n",
       "      <td id=\"T_6f416_row6_col2\" class=\"data row6 col2\" >0.644779</td>\n",
       "      <td id=\"T_6f416_row6_col3\" class=\"data row6 col3\" >0.086518</td>\n",
       "      <td id=\"T_6f416_row6_col4\" class=\"data row6 col4\" >0.731470</td>\n",
       "      <td id=\"T_6f416_row6_col5\" class=\"data row6 col5\" >-0.240265</td>\n",
       "      <td id=\"T_6f416_row6_col6\" class=\"data row6 col6\" >1.000000</td>\n",
       "      <td id=\"T_6f416_row6_col7\" class=\"data row6 col7\" >-0.747881</td>\n",
       "      <td id=\"T_6f416_row6_col8\" class=\"data row6 col8\" >0.456022</td>\n",
       "      <td id=\"T_6f416_row6_col9\" class=\"data row6 col9\" >0.506456</td>\n",
       "      <td id=\"T_6f416_row6_col10\" class=\"data row6 col10\" >0.261515</td>\n",
       "      <td id=\"T_6f416_row6_col11\" class=\"data row6 col11\" >-0.376955</td>\n",
       "    </tr>\n",
       "    <tr>\n",
       "      <th id=\"T_6f416_level0_row7\" class=\"row_heading level0 row7\" >distance_to_city</th>\n",
       "      <td id=\"T_6f416_row7_col0\" class=\"data row7 col0\" >-0.379670</td>\n",
       "      <td id=\"T_6f416_row7_col1\" class=\"data row7 col1\" >0.664408</td>\n",
       "      <td id=\"T_6f416_row7_col2\" class=\"data row7 col2\" >-0.708027</td>\n",
       "      <td id=\"T_6f416_row7_col3\" class=\"data row7 col3\" >-0.099176</td>\n",
       "      <td id=\"T_6f416_row7_col4\" class=\"data row7 col4\" >-0.769230</td>\n",
       "      <td id=\"T_6f416_row7_col5\" class=\"data row7 col5\" >0.205246</td>\n",
       "      <td id=\"T_6f416_row7_col6\" class=\"data row7 col6\" >-0.747881</td>\n",
       "      <td id=\"T_6f416_row7_col7\" class=\"data row7 col7\" >1.000000</td>\n",
       "      <td id=\"T_6f416_row7_col8\" class=\"data row7 col8\" >-0.494588</td>\n",
       "      <td id=\"T_6f416_row7_col9\" class=\"data row7 col9\" >-0.534432</td>\n",
       "      <td id=\"T_6f416_row7_col10\" class=\"data row7 col10\" >-0.232471</td>\n",
       "      <td id=\"T_6f416_row7_col11\" class=\"data row7 col11\" >0.249929</td>\n",
       "    </tr>\n",
       "    <tr>\n",
       "      <th id=\"T_6f416_level0_row8\" class=\"row_heading level0 row8\" >highway_access</th>\n",
       "      <td id=\"T_6f416_row8_col0\" class=\"data row8 col0\" >0.625505</td>\n",
       "      <td id=\"T_6f416_row8_col1\" class=\"data row8 col1\" >-0.311948</td>\n",
       "      <td id=\"T_6f416_row8_col2\" class=\"data row8 col2\" >0.595129</td>\n",
       "      <td id=\"T_6f416_row8_col3\" class=\"data row8 col3\" >-0.007368</td>\n",
       "      <td id=\"T_6f416_row8_col4\" class=\"data row8 col4\" >0.611441</td>\n",
       "      <td id=\"T_6f416_row8_col5\" class=\"data row8 col5\" >-0.209847</td>\n",
       "      <td id=\"T_6f416_row8_col6\" class=\"data row8 col6\" >0.456022</td>\n",
       "      <td id=\"T_6f416_row8_col7\" class=\"data row8 col7\" >-0.494588</td>\n",
       "      <td id=\"T_6f416_row8_col8\" class=\"data row8 col8\" >1.000000</td>\n",
       "      <td id=\"T_6f416_row8_col9\" class=\"data row8 col9\" >0.910228</td>\n",
       "      <td id=\"T_6f416_row8_col10\" class=\"data row8 col10\" >0.464741</td>\n",
       "      <td id=\"T_6f416_row8_col11\" class=\"data row8 col11\" >-0.381626</td>\n",
       "    </tr>\n",
       "    <tr>\n",
       "      <th id=\"T_6f416_level0_row9\" class=\"row_heading level0 row9\" >tax_rate</th>\n",
       "      <td id=\"T_6f416_row9_col0\" class=\"data row9 col0\" >0.582764</td>\n",
       "      <td id=\"T_6f416_row9_col1\" class=\"data row9 col1\" >-0.314563</td>\n",
       "      <td id=\"T_6f416_row9_col2\" class=\"data row9 col2\" >0.720760</td>\n",
       "      <td id=\"T_6f416_row9_col3\" class=\"data row9 col3\" >-0.035587</td>\n",
       "      <td id=\"T_6f416_row9_col4\" class=\"data row9 col4\" >0.668023</td>\n",
       "      <td id=\"T_6f416_row9_col5\" class=\"data row9 col5\" >-0.292048</td>\n",
       "      <td id=\"T_6f416_row9_col6\" class=\"data row9 col6\" >0.506456</td>\n",
       "      <td id=\"T_6f416_row9_col7\" class=\"data row9 col7\" >-0.534432</td>\n",
       "      <td id=\"T_6f416_row9_col8\" class=\"data row9 col8\" >0.910228</td>\n",
       "      <td id=\"T_6f416_row9_col9\" class=\"data row9 col9\" >1.000000</td>\n",
       "      <td id=\"T_6f416_row9_col10\" class=\"data row9 col10\" >0.460853</td>\n",
       "      <td id=\"T_6f416_row9_col11\" class=\"data row9 col11\" >-0.468536</td>\n",
       "    </tr>\n",
       "    <tr>\n",
       "      <th id=\"T_6f416_level0_row10\" class=\"row_heading level0 row10\" >student_teacher_ratio</th>\n",
       "      <td id=\"T_6f416_row10_col0\" class=\"data row10 col0\" >0.289946</td>\n",
       "      <td id=\"T_6f416_row10_col1\" class=\"data row10 col1\" >-0.391679</td>\n",
       "      <td id=\"T_6f416_row10_col2\" class=\"data row10 col2\" >0.383248</td>\n",
       "      <td id=\"T_6f416_row10_col3\" class=\"data row10 col3\" >-0.121515</td>\n",
       "      <td id=\"T_6f416_row10_col4\" class=\"data row10 col4\" >0.188933</td>\n",
       "      <td id=\"T_6f416_row10_col5\" class=\"data row10 col5\" >-0.355501</td>\n",
       "      <td id=\"T_6f416_row10_col6\" class=\"data row10 col6\" >0.261515</td>\n",
       "      <td id=\"T_6f416_row10_col7\" class=\"data row10 col7\" >-0.232471</td>\n",
       "      <td id=\"T_6f416_row10_col8\" class=\"data row10 col8\" >0.464741</td>\n",
       "      <td id=\"T_6f416_row10_col9\" class=\"data row10 col9\" >0.460853</td>\n",
       "      <td id=\"T_6f416_row10_col10\" class=\"data row10 col10\" >1.000000</td>\n",
       "      <td id=\"T_6f416_row10_col11\" class=\"data row10 col11\" >-0.507787</td>\n",
       "    </tr>\n",
       "    <tr>\n",
       "      <th id=\"T_6f416_level0_row11\" class=\"row_heading level0 row11\" >median_price</th>\n",
       "      <td id=\"T_6f416_row11_col0\" class=\"data row11 col0\" >-0.388305</td>\n",
       "      <td id=\"T_6f416_row11_col1\" class=\"data row11 col1\" >0.360445</td>\n",
       "      <td id=\"T_6f416_row11_col2\" class=\"data row11 col2\" >-0.483725</td>\n",
       "      <td id=\"T_6f416_row11_col3\" class=\"data row11 col3\" >0.175260</td>\n",
       "      <td id=\"T_6f416_row11_col4\" class=\"data row11 col4\" >-0.427321</td>\n",
       "      <td id=\"T_6f416_row11_col5\" class=\"data row11 col5\" >0.695360</td>\n",
       "      <td id=\"T_6f416_row11_col6\" class=\"data row11 col6\" >-0.376955</td>\n",
       "      <td id=\"T_6f416_row11_col7\" class=\"data row11 col7\" >0.249929</td>\n",
       "      <td id=\"T_6f416_row11_col8\" class=\"data row11 col8\" >-0.381626</td>\n",
       "      <td id=\"T_6f416_row11_col9\" class=\"data row11 col9\" >-0.468536</td>\n",
       "      <td id=\"T_6f416_row11_col10\" class=\"data row11 col10\" >-0.507787</td>\n",
       "      <td id=\"T_6f416_row11_col11\" class=\"data row11 col11\" >1.000000</td>\n",
       "    </tr>\n",
       "  </tbody>\n",
       "</table>\n"
      ],
      "text/plain": [
       "<pandas.io.formats.style.Styler at 0x1453d2950>"
      ]
     },
     "execution_count": 21,
     "metadata": {},
     "output_type": "execute_result"
    }
   ],
   "source": [
    "def flag(val):\n",
    "    color = 'black' if val == 1. else 'red' if np.abs(val) >= 0.7 else 'black'\n",
    "    return 'color: {0:s}'.format(color)\n",
    "df.corr().style.applymap(flag)"
   ]
  },
  {
   "cell_type": "markdown",
   "metadata": {},
   "source": [
    "**Create a histogram of a column** \n",
    "```python\n",
    "plt.hist(df['median_price'])\n",
    "```"
   ]
  },
  {
   "cell_type": "code",
   "execution_count": 22,
   "metadata": {},
   "outputs": [
    {
     "data": {
      "image/png": "[encoded data removed]",
      "text/plain": [
       "<Figure size 640x480 with 1 Axes>"
      ]
     },
     "metadata": {},
     "output_type": "display_data"
    }
   ],
   "source": [
    "plt.hist(df['median_price'], bins=40)\n",
    "plt.show()"
   ]
  },
  {
   "cell_type": "markdown",
   "metadata": {},
   "source": [
    "### Exercises\n",
    "---"
   ]
  },
  {
   "cell_type": "markdown",
   "metadata": {},
   "source": [
    "**1. Check the correlation matrix for** `housing_df` **to find features that are more than 90% correlated**  \n",
    "Hint: You can use `.any()` to check a Boolean filter against all columns. E.g. `(df > 10).any()` will be a boolean filter finding rows with a cell value > 10."
   ]
  },
  {
   "cell_type": "code",
   "execution_count": 23,
   "metadata": {},
   "outputs": [
    {
     "data": {
      "text/html": [
       "<div>\n",
       "<style scoped>\n",
       "    .dataframe tbody tr th:only-of-type {\n",
       "        vertical-align: middle;\n",
       "    }\n",
       "\n",
       "    .dataframe tbody tr th {\n",
       "        vertical-align: top;\n",
       "    }\n",
       "\n",
       "    .dataframe thead th {\n",
       "        text-align: right;\n",
       "    }\n",
       "</style>\n",
       "<table border=\"1\" class=\"dataframe\">\n",
       "  <thead>\n",
       "    <tr style=\"text-align: right;\">\n",
       "      <th></th>\n",
       "      <th>crime_rate</th>\n",
       "      <th>big_lots_percent</th>\n",
       "      <th>office_percent</th>\n",
       "      <th>charles_river</th>\n",
       "      <th>nitrous</th>\n",
       "      <th>avg_num_rooms</th>\n",
       "      <th>pre_1940</th>\n",
       "      <th>distance_to_city</th>\n",
       "      <th>highway_access</th>\n",
       "      <th>tax_rate</th>\n",
       "      <th>student_teacher_ratio</th>\n",
       "      <th>median_price</th>\n",
       "    </tr>\n",
       "  </thead>\n",
       "  <tbody>\n",
       "    <tr>\n",
       "      <th>highway_access</th>\n",
       "      <td>0.625505</td>\n",
       "      <td>-0.311948</td>\n",
       "      <td>0.595129</td>\n",
       "      <td>-0.007368</td>\n",
       "      <td>0.611441</td>\n",
       "      <td>-0.209847</td>\n",
       "      <td>0.456022</td>\n",
       "      <td>-0.494588</td>\n",
       "      <td>1.000000</td>\n",
       "      <td>0.910228</td>\n",
       "      <td>0.464741</td>\n",
       "      <td>-0.381626</td>\n",
       "    </tr>\n",
       "    <tr>\n",
       "      <th>tax_rate</th>\n",
       "      <td>0.582764</td>\n",
       "      <td>-0.314563</td>\n",
       "      <td>0.720760</td>\n",
       "      <td>-0.035587</td>\n",
       "      <td>0.668023</td>\n",
       "      <td>-0.292048</td>\n",
       "      <td>0.506456</td>\n",
       "      <td>-0.534432</td>\n",
       "      <td>0.910228</td>\n",
       "      <td>1.000000</td>\n",
       "      <td>0.460853</td>\n",
       "      <td>-0.468536</td>\n",
       "    </tr>\n",
       "  </tbody>\n",
       "</table>\n",
       "</div>"
      ],
      "text/plain": [
       "                crime_rate  big_lots_percent  office_percent  charles_river  \\\n",
       "highway_access    0.625505         -0.311948        0.595129      -0.007368   \n",
       "tax_rate          0.582764         -0.314563        0.720760      -0.035587   \n",
       "\n",
       "                 nitrous  avg_num_rooms  pre_1940  distance_to_city  \\\n",
       "highway_access  0.611441      -0.209847  0.456022         -0.494588   \n",
       "tax_rate        0.668023      -0.292048  0.506456         -0.534432   \n",
       "\n",
       "                highway_access  tax_rate  student_teacher_ratio  median_price  \n",
       "highway_access        1.000000  0.910228               0.464741     -0.381626  \n",
       "tax_rate              0.910228  1.000000               0.460853     -0.468536  "
      ]
     },
     "execution_count": 23,
     "metadata": {},
     "output_type": "execute_result"
    }
   ],
   "source": [
    "stats = df.corr()\n",
    "near1 = ((stats > 0.9) & (stats < 1.)).any()\n",
    "stats[near1]"
   ]
  },
  {
   "cell_type": "markdown",
   "metadata": {},
   "source": [
    "**2. Use a scatter plot to check linearity and equal variance for** `avg_num_rooms` **and** `student_teacher_ratio`. **Which of these is a better indicator for price?** "
   ]
  },
  {
   "cell_type": "code",
   "execution_count": 24,
   "metadata": {},
   "outputs": [
    {
     "data": {
      "text/plain": [
       "<Axes: xlabel='student_teacher_ratio', ylabel='median_price'>"
      ]
     },
     "execution_count": 24,
     "metadata": {},
     "output_type": "execute_result"
    },
    {
     "data": {
      "image/png": "[encoded data removed]",
      "text/plain": [
       "<Figure size 640x480 with 1 Axes>"
      ]
     },
     "metadata": {},
     "output_type": "display_data"
    },
    {
     "data": {
      "image/png": "[encoded data removed]",
      "text/plain": [
       "<Figure size 640x480 with 1 Axes>"
      ]
     },
     "metadata": {},
     "output_type": "display_data"
    }
   ],
   "source": [
    "df.plot.scatter(x='avg_num_rooms', y='median_price')\n",
    "df.plot.scatter(x='student_teacher_ratio', y='median_price')\n",
    "\n",
    "#Average number of rooms is a better indicator based \n",
    "#on linear pattern and consistent variance"
   ]
  },
  {
   "cell_type": "markdown",
   "metadata": {},
   "source": [
    "**3. Create a variable** `error` **which is the difference between** `predicted` **and** `median_price`."
   ]
  },
  {
   "cell_type": "code",
   "execution_count": 25,
   "metadata": {},
   "outputs": [],
   "source": [
    "df['error'] = modelII.predict(dfd) - df['median_price']"
   ]
  },
  {
   "cell_type": "markdown",
   "metadata": {},
   "source": [
    "**4. Create a histogram of the** `error` **column. Is it normal, and centered on 0?**"
   ]
  },
  {
   "cell_type": "code",
   "execution_count": 26,
   "metadata": {
    "tags": []
   },
   "outputs": [
    {
     "data": {
      "text/plain": [
       "<Axes: ylabel='Frequency'>"
      ]
     },
     "execution_count": 26,
     "metadata": {},
     "output_type": "execute_result"
    },
    {
     "data": {
      "image/png": "[encoded data removed]",
      "text/plain": [
       "<Figure size 640x480 with 1 Axes>"
      ]
     },
     "metadata": {},
     "output_type": "display_data"
    }
   ],
   "source": [
    "df['error'].plot.hist(bins=50)\n",
    "\n",
    "# Yes, error appears normally distributed"
   ]
  }
 ],
 "metadata": {
  "kernelspec": {
   "display_name": "Python 3 (ipykernel)",
   "language": "python",
   "name": "python3"
  },
  "language_info": {
   "codemirror_mode": {
    "name": "ipython",
    "version": 3
   },
   "file_extension": ".py",
   "mimetype": "text/x-python",
   "name": "python",
   "nbconvert_exporter": "python",
   "pygments_lexer": "ipython3",
   "version": "3.11.4"
  }
 },
 "nbformat": 4,
 "nbformat_minor": 4
}
