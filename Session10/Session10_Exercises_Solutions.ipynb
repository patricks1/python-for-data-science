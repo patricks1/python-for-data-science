{
 "cells": [
  {
   "cell_type": "markdown",
   "id": "14f2c1c8-4e3f-4c4b-92b3-1027e31421cc",
   "metadata": {},
   "source": [
    "# Copying and pasting solutions is not an effective way of participating.\n",
    "---\n",
    "Please ask questions when you don't know what to do."
   ]
  }
 ],
 "metadata": {
  "kernelspec": {
   "display_name": "Python 3 (ipykernel)",
   "language": "python",
   "name": "python3"
  },
  "language_info": {
   "codemirror_mode": {
    "name": "ipython",
    "version": 3
   },
   "file_extension": ".py",
   "mimetype": "text/x-python",
   "name": "python",
   "nbconvert_exporter": "python",
   "pygments_lexer": "ipython3",
   "version": "3.10.11"
  }
 },
 "nbformat": 4,
 "nbformat_minor": 5
}
