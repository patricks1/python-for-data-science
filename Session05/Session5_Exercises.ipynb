{
 "cells": [
  {
   "cell_type": "markdown",
   "metadata": {},
   "source": [
    "# Python for Data Science, Level I\n",
    "### *Session \\#5*\n",
    "---\n",
    "\n",
    "### Helpful shortcuts\n",
    "---\n",
    "\n",
    "**SHIFT** + **ENTER** ----> Execute Cell\n",
    "\n",
    "**TAB** ----> See autocomplete options\n",
    "\n",
    "**ESC** then **b** ----> Create Cell \n",
    "\n",
    "**ESC** then **dd** ----> Delete Cell\n",
    "\n",
    "**\\[python expression\\]?** ---> Explanation of that Python expression\n",
    "\n",
    "**ESC** then **m** then __ENTER__ ----> Switch to Markdown mode"
   ]
  },
  {
   "cell_type": "markdown",
   "metadata": {},
   "source": [
    "## I. Array Basics\n",
    "\n",
    "\n",
    "### Warm Ups\n",
    "---\n",
    "\n",
    "**Import numpy:** `import numpy as np`"
   ]
  },
  {
   "cell_type": "code",
   "execution_count": null,
   "metadata": {},
   "outputs": [],
   "source": [
    "import numpy as np"
   ]
  },
  {
   "cell_type": "markdown",
   "metadata": {},
   "source": [
    "**Create an array from a list:**  \n",
    "Create a numpy array from the list `[8, 6, 7, 5, 3, 0, 9]`."
   ]
  },
  {
   "cell_type": "code",
   "execution_count": null,
   "metadata": {},
   "outputs": [],
   "source": []
  },
  {
   "cell_type": "markdown",
   "metadata": {},
   "source": [
    "**Broadcasting:**  \n",
    "Multiply everything in `int_array` by 3."
   ]
  },
  {
   "cell_type": "code",
   "execution_count": null,
   "metadata": {},
   "outputs": [],
   "source": []
  },
  {
   "cell_type": "markdown",
   "metadata": {},
   "source": [
    "**Element-wise arithmetic:**  \n",
    "Create an array `[1,2,3]` and add 3 to the 1, 2 to the 2, and 1 to the 3."
   ]
  },
  {
   "cell_type": "code",
   "execution_count": null,
   "metadata": {},
   "outputs": [],
   "source": []
  },
  {
   "cell_type": "markdown",
   "metadata": {},
   "source": [
    "### Exercises\n",
    "---\n",
    "**1. The array** `temps` **represents a sequence of temperature readings in Farenheit. Use broadcasting to convert them all to Celcius.**\n",
    "\n",
    "Hint: To convert from Farenheit to Celcius, subtract 32 degress and multiply by 5/9."
   ]
  },
  {
   "cell_type": "code",
   "execution_count": null,
   "metadata": {},
   "outputs": [],
   "source": [
    "temps = np.array([92, 103, 85, 94, 90, 92, 87, 82, 80])"
   ]
  },
  {
   "cell_type": "markdown",
   "metadata": {},
   "source": [
    "**2. Use broadcasting to convert your new temperature array to Kelvin.**\n",
    "\n",
    "Hint: To convert Celcius to Kelvin, add 273 degrees."
   ]
  },
  {
   "cell_type": "code",
   "execution_count": null,
   "metadata": {},
   "outputs": [],
   "source": []
  },
  {
   "cell_type": "markdown",
   "metadata": {},
   "source": [
    "**3. Each of the** `game` **arrays represents how many points were scored that game by each player on the team**\n",
    "\n",
    "**Create an array of each player's average number of points scored, using element-wise arithmetic and broadcasting.**"
   ]
  },
  {
   "cell_type": "code",
   "execution_count": null,
   "metadata": {},
   "outputs": [],
   "source": [
    "game1 = np.array([6, 26, 18, 10])\n",
    "game2 = np.array([12, 24, 28, 8])\n",
    "game3 = np.array([14, 30, 22, 14])\n",
    "\n",
    "# ADD YOUR CODE DOWN HERE"
   ]
  },
  {
   "cell_type": "markdown",
   "metadata": {},
   "source": [
    "**4. What would the averages look like if each player had scored twice as many points during the last game?**"
   ]
  },
  {
   "cell_type": "code",
   "execution_count": null,
   "metadata": {},
   "outputs": [],
   "source": [
    " "
   ]
  },
  {
   "cell_type": "markdown",
   "metadata": {},
   "source": [
    "**5. The array** `book_pages` **represents how many pages each book has, and** `book_hours` **represents how long it took to finish the book.**\n",
    "\n",
    "**Which book was most difficult to read, based on its pages-per-hour reading rate?**"
   ]
  },
  {
   "cell_type": "code",
   "execution_count": null,
   "metadata": {},
   "outputs": [],
   "source": [
    "book_pages = np.array([320, 173, 532, 801, 275])\n",
    "book_hours = np.array([  3,   2,   6,  19,   4])"
   ]
  },
  {
   "cell_type": "markdown",
   "metadata": {},
   "source": [
    "### Extra Credit\n",
    "---\n",
    "**1. Numpy also provides handy functions for creating arrays, such as** `np.random.randint()`. **The function takes three inputs: the lower bound, the upper bound, and the number of random numbers you want. For example:**\n",
    "\n",
    "np.random.randint(1,10, 3) ---> array([1, 3, 9])\n",
    "\n",
    "**How would you use** `randint()` **to simulate a turn in the game Yahtzee, which is played with 5 standard dice?** "
   ]
  },
  {
   "cell_type": "code",
   "execution_count": null,
   "metadata": {},
   "outputs": [],
   "source": []
  },
  {
   "cell_type": "markdown",
   "metadata": {},
   "source": [
    "## II. Boolean Masks\n",
    "\n",
    "\n",
    "### Warm Ups\n",
    "---\n",
    "\n",
    "**1. Create a boolean mask:**  \n",
    "Create a mask showing whether each element of `int_array` is less than 3."
   ]
  },
  {
   "cell_type": "code",
   "execution_count": null,
   "metadata": {},
   "outputs": [],
   "source": []
  },
  {
   "cell_type": "markdown",
   "metadata": {},
   "source": [
    "**2. Filtering using a boolean mask:**  \n",
    "Now return the elements of `int_array` that are less than 3."
   ]
  },
  {
   "cell_type": "code",
   "execution_count": null,
   "metadata": {},
   "outputs": [],
   "source": []
  },
  {
   "cell_type": "markdown",
   "metadata": {},
   "source": [
    "**3. Combining boolean masks with an OR operator:**  \n",
    "Pull the elements of `int_array` that are either less than 3 or greater than 7."
   ]
  },
  {
   "cell_type": "code",
   "execution_count": null,
   "metadata": {},
   "outputs": [],
   "source": []
  },
  {
   "cell_type": "markdown",
   "metadata": {},
   "source": [
    "**4. Combining boolean masks with an AND operator:**  \n",
    "Pull the elements of `int_array` that are greater than between 3 and 7, exclusive."
   ]
  },
  {
   "cell_type": "code",
   "execution_count": null,
   "metadata": {},
   "outputs": [],
   "source": []
  },
  {
   "cell_type": "markdown",
   "metadata": {},
   "source": [
    "**5. Assignment using a boolean mask:**  \n",
    "Replace all elements of `int_array` that have even values with a 0."
   ]
  },
  {
   "cell_type": "code",
   "execution_count": null,
   "metadata": {},
   "outputs": [],
   "source": []
  },
  {
   "cell_type": "markdown",
   "metadata": {},
   "source": [
    "### Exercises\n",
    "---\n",
    "\n",
    "**1. The array** `test_scores` **represents the final test scores for a class. How many students got at least 80 points on the test?**"
   ]
  },
  {
   "cell_type": "code",
   "execution_count": null,
   "metadata": {},
   "outputs": [],
   "source": [
    "test_scores = np.array([68, 95, 92, 73, 84, 90, 69, 75, 80, 82, 90, 85, 86, 64, 98])"
   ]
  },
  {
   "cell_type": "markdown",
   "metadata": {},
   "source": [
    "**2. Filter the array to just students who got between 65 and 75 points on the test.**"
   ]
  },
  {
   "cell_type": "code",
   "execution_count": null,
   "metadata": {},
   "outputs": [],
   "source": []
  },
  {
   "cell_type": "markdown",
   "metadata": {},
   "source": [
    "**3. How many students got above 95 or below 65 points?**"
   ]
  },
  {
   "cell_type": "code",
   "execution_count": null,
   "metadata": {},
   "outputs": [],
   "source": []
  },
  {
   "cell_type": "markdown",
   "metadata": {},
   "source": [
    "**4. How many students got exactly 90 points?**"
   ]
  },
  {
   "cell_type": "code",
   "execution_count": null,
   "metadata": {},
   "outputs": [],
   "source": []
  },
  {
   "cell_type": "markdown",
   "metadata": {},
   "source": [
    "**5. The array** `golf_scores` **represents how many strokes a golfer took on each hole during a round.**\n",
    "\n",
    "**There's a 6-stroke maximum, so overwrite any higher score with a 6.** \n",
    "\n",
    "Hint: Use a boolean mask to assign the new value."
   ]
  },
  {
   "cell_type": "code",
   "execution_count": null,
   "metadata": {},
   "outputs": [],
   "source": [
    "golf_scores = np.random.randint(1, 10, 18)"
   ]
  },
  {
   "cell_type": "markdown",
   "metadata": {},
   "source": [
    "### Extra Credit\n",
    "---\n",
    "\n",
    "**1. Par, or the expected number of strokes, for each hole is given by the array** `par`\n",
    "\n",
    "**Which holes did the golfer shoot at or under par?**\n",
    "\n",
    "Hint: First find a boolean mask for the holes under par, then use it on the array `[1, 2, 3, ..., 18]`."
   ]
  },
  {
   "cell_type": "code",
   "execution_count": null,
   "metadata": {},
   "outputs": [],
   "source": [
    "par = np.array([3, 4, 3, 3, 5, 3, 4, 3, 3, 4, 5, 3, 3, 3, 5, 3, 3, 3])"
   ]
  },
  {
   "cell_type": "markdown",
   "metadata": {},
   "source": [
    "## III. Array Methods\n",
    "\n",
    "*Note: All array methods can also be called as functions of the Numpy module.* `int_array.sum()` <=> `np.sum(int_array)`\n",
    "\n",
    "### Warm Ups\n",
    "---\n",
    "\n",
    "**Sum of an array:** `int_array.sum()`"
   ]
  },
  {
   "cell_type": "code",
   "execution_count": null,
   "metadata": {},
   "outputs": [],
   "source": []
  },
  {
   "cell_type": "markdown",
   "metadata": {},
   "source": [
    "**Product of an array:** `int_array.prod()`"
   ]
  },
  {
   "cell_type": "code",
   "execution_count": null,
   "metadata": {},
   "outputs": [],
   "source": []
  },
  {
   "cell_type": "markdown",
   "metadata": {},
   "source": [
    "**Find the max or min element:** `int_array.max()` **or** `int_array.min()`"
   ]
  },
  {
   "cell_type": "code",
   "execution_count": null,
   "metadata": {},
   "outputs": [],
   "source": []
  },
  {
   "cell_type": "markdown",
   "metadata": {},
   "source": [
    "**Find the average:** `int_array.mean()`"
   ]
  },
  {
   "cell_type": "code",
   "execution_count": null,
   "metadata": {},
   "outputs": [],
   "source": []
  },
  {
   "cell_type": "markdown",
   "metadata": {},
   "source": [
    "**Sort an array:** `int_array.sort()`"
   ]
  },
  {
   "cell_type": "code",
   "execution_count": null,
   "metadata": {},
   "outputs": [],
   "source": []
  },
  {
   "cell_type": "markdown",
   "metadata": {},
   "source": [
    "## Exercises\n",
    "---\n",
    "**1. Find the average test score from** `test_scores`"
   ]
  },
  {
   "cell_type": "code",
   "execution_count": null,
   "metadata": {},
   "outputs": [],
   "source": []
  },
  {
   "cell_type": "markdown",
   "metadata": {},
   "source": [
    "**2. Create an array showing how many points above/below average each test score was.**"
   ]
  },
  {
   "cell_type": "code",
   "execution_count": null,
   "metadata": {},
   "outputs": [],
   "source": []
  },
  {
   "cell_type": "markdown",
   "metadata": {},
   "source": [
    "**3. Find the final number of strokes over par, by summing** `golf_scores` **and** `par`"
   ]
  },
  {
   "cell_type": "code",
   "execution_count": null,
   "metadata": {},
   "outputs": [],
   "source": []
  },
  {
   "cell_type": "markdown",
   "metadata": {},
   "source": [
    "**4. Find the number of degrees between the coldest and hottest temperature readings from** `temps` "
   ]
  },
  {
   "cell_type": "code",
   "execution_count": null,
   "metadata": {},
   "outputs": [],
   "source": []
  },
  {
   "cell_type": "markdown",
   "metadata": {},
   "source": [
    "### Extra Credit\n",
    "---\n",
    "\n",
    "**1. Among students who scored higher than 70 points in** `test_scores`, **what was the average score?** "
   ]
  },
  {
   "cell_type": "code",
   "execution_count": null,
   "metadata": {},
   "outputs": [],
   "source": []
  },
  {
   "cell_type": "markdown",
   "metadata": {},
   "source": [
    "**2. If you removed the worst three scores from** `test_scores`, **what would be the average score?**"
   ]
  },
  {
   "cell_type": "code",
   "execution_count": null,
   "metadata": {},
   "outputs": [],
   "source": []
  }
 ],
 "metadata": {
  "kernelspec": {
   "display_name": "Python 3 (ipykernel)",
   "language": "python",
   "name": "python3"
  },
  "language_info": {
   "codemirror_mode": {
    "name": "ipython",
    "version": 3
   },
   "file_extension": ".py",
   "mimetype": "text/x-python",
   "name": "python",
   "nbconvert_exporter": "python",
   "pygments_lexer": "ipython3",
   "version": "3.11.4"
  }
 },
 "nbformat": 4,
 "nbformat_minor": 4
}
