{
 "cells": [
  {
   "cell_type": "markdown",
   "metadata": {},
   "source": [
    "# Python for Data Science, Level I\n",
    "### *Session \\#4*\n",
    "---\n",
    "\n",
    "### Helpful shortcuts\n",
    "---\n",
    "\n",
    "**SHIFT** + **ENTER** ----> Execute Cell\n",
    "\n",
    "**TAB** ----> See autocomplete options\n",
    "\n",
    "**ESC** then **b** ----> Create Cell \n",
    "\n",
    "**ESC** then **dd** ----> Delete Cell\n",
    "\n",
    "**\\[python expression\\]?** ---> Explanation of that Python expression\n",
    "\n",
    "**ESC** then **m** then __ENTER__ ----> Switch to Markdown mode"
   ]
  },
  {
   "cell_type": "markdown",
   "metadata": {},
   "source": [
    "## I. For Loops\n",
    "\n",
    "\n",
    "### Warm Ups\n",
    "---\n",
    "**For-loop on a list:** \n",
    "    \n",
    "```python\n",
    "for num in [1, 2, 3]:\n",
    "    print(num)\n",
    "```"
   ]
  },
  {
   "cell_type": "code",
   "execution_count": null,
   "metadata": {},
   "outputs": [],
   "source": []
  },
  {
   "cell_type": "markdown",
   "metadata": {},
   "source": [
    "**For-loop on a string:**\n",
    "\n",
    "```python\n",
    "for char in \"word\":\n",
    "    print(char)\n",
    "```"
   ]
  },
  {
   "cell_type": "code",
   "execution_count": 1,
   "metadata": {},
   "outputs": [
    {
     "name": "stdout",
     "output_type": "stream",
     "text": [
      "w\n",
      "o\n",
      "r\n",
      "d\n"
     ]
    }
   ],
   "source": [
    "for char in \"word\":\n",
    "    print(char)"
   ]
  },
  {
   "cell_type": "markdown",
   "metadata": {},
   "source": [
    "**For-loop on a range:**\n",
    "    \n",
    "```python\n",
    "for num in range(10):\n",
    "    print(num)\n",
    "\n",
    "```"
   ]
  },
  {
   "cell_type": "code",
   "execution_count": null,
   "metadata": {},
   "outputs": [],
   "source": []
  },
  {
   "cell_type": "markdown",
   "metadata": {},
   "source": [
    "**Using a for-loop to construct:**\n",
    "    \n",
    "```python\n",
    "i = 0\n",
    "for num in range(10):\n",
    "    i = i + num\n",
    "```"
   ]
  },
  {
   "cell_type": "code",
   "execution_count": null,
   "metadata": {},
   "outputs": [],
   "source": []
  },
  {
   "cell_type": "markdown",
   "metadata": {},
   "source": [
    "### Exercises\n",
    "---"
   ]
  },
  {
   "cell_type": "markdown",
   "metadata": {},
   "source": [
    "**1. Write a function that, given a list of numbers, will sum the entire list.**"
   ]
  },
  {
   "cell_type": "code",
   "execution_count": 2,
   "metadata": {},
   "outputs": [
    {
     "name": "stdout",
     "output_type": "stream",
     "text": [
      "10\n"
     ]
    }
   ],
   "source": [
    "# Function version\n",
    "def loop_sum(my_list):\n",
    "    total = 0\n",
    "    for num in my_list:\n",
    "        total = total + num\n",
    "    return total\n",
    "\n",
    "# Simplified version\n",
    "total = 0\n",
    "for num in [1, 2, 3, 4]:\n",
    "    total = total + num\n",
    "print(total)"
   ]
  },
  {
   "cell_type": "markdown",
   "metadata": {},
   "source": [
    "**2. Write function that, given a list of numbers, will return the count of negative numbers in the list.**"
   ]
  },
  {
   "cell_type": "code",
   "execution_count": 3,
   "metadata": {},
   "outputs": [],
   "source": [
    "# Function version\n",
    "def neg_count(num_list):\n",
    "    count = 0\n",
    "    for num in num_list:\n",
    "        if num < 0:\n",
    "            count = count + 1\n",
    "    return count"
   ]
  },
  {
   "cell_type": "markdown",
   "metadata": {},
   "source": [
    "**3. Write a function that will find the largest number in a list using a for-loop.**\n",
    "\n",
    "Hint: Create a variable that will track the largest number seen thus far."
   ]
  },
  {
   "cell_type": "code",
   "execution_count": 4,
   "metadata": {},
   "outputs": [],
   "source": [
    "def biggest(num_list):\n",
    "    biggest_seen = num_list[0]\n",
    "    for num in num_list:\n",
    "        if num > biggest_seen:\n",
    "            biggest_seen = num\n",
    "    return biggest_seen"
   ]
  },
  {
   "cell_type": "markdown",
   "metadata": {},
   "source": [
    "**4. Write a function** `fizzbuzz()` **which loops over the integers from 1 to 50. For multiples of three print** `\"Fizz\"` **instead of the number and for the multiples of five print** `\"Buzz\"`. **For numbers which are multiples of both three and five print** `\"FizzBuzz\"`"
   ]
  },
  {
   "cell_type": "code",
   "execution_count": 5,
   "metadata": {},
   "outputs": [],
   "source": [
    "def fizzbuzz():\n",
    "    for num in range(1, 51):\n",
    "        div_3 = num % 3 == 0\n",
    "        div_5 = num % 5 == 0\n",
    "        if div_3 and div_5:\n",
    "            print(\"FizzBuzz\")\n",
    "        elif div_3:\n",
    "            print(\"Fizz\")\n",
    "        elif div_5:\n",
    "            print(\"Buzz\")\n",
    "        else:\n",
    "            print(num)"
   ]
  },
  {
   "cell_type": "markdown",
   "metadata": {},
   "source": [
    "### Extra Credit\n",
    "---\n",
    "**1. Write a function** `digit_sum()` **that, given a number, will return the sum of its digits.**\n",
    "\n",
    "**For example,** `digit_sum(1824)` **would return** `15` "
   ]
  },
  {
   "cell_type": "code",
   "execution_count": 6,
   "metadata": {},
   "outputs": [],
   "source": [
    "def digit_sum(num):\n",
    "    total = 0\n",
    "    for digit in str(num):\n",
    "        total = total + int(digit)\n",
    "    return total"
   ]
  },
  {
   "cell_type": "markdown",
   "metadata": {},
   "source": [
    "## II. Dictionaries\n",
    "\n",
    "\n",
    "### Warm Ups\n",
    "---\n",
    "\n",
    "**Dictionary literal:** `my_dict = {\"name\": \"Rob\", \"shoe_size\": 9.5}`"
   ]
  },
  {
   "cell_type": "code",
   "execution_count": null,
   "metadata": {},
   "outputs": [],
   "source": []
  },
  {
   "cell_type": "markdown",
   "metadata": {},
   "source": [
    "**Fetch by key:** `my_dict['name']`"
   ]
  },
  {
   "cell_type": "code",
   "execution_count": null,
   "metadata": {},
   "outputs": [],
   "source": []
  },
  {
   "cell_type": "markdown",
   "metadata": {},
   "source": [
    "**Add an item:** `my_dict['hair'] = \"brown\"`"
   ]
  },
  {
   "cell_type": "code",
   "execution_count": null,
   "metadata": {},
   "outputs": [],
   "source": []
  },
  {
   "cell_type": "markdown",
   "metadata": {},
   "source": [
    "**Looping over a dictionary:** \n",
    "\n",
    "```python\n",
    "for key in my_dict:\n",
    "    print(key)\n",
    "```"
   ]
  },
  {
   "cell_type": "code",
   "execution_count": null,
   "metadata": {},
   "outputs": [],
   "source": []
  },
  {
   "cell_type": "markdown",
   "metadata": {},
   "source": [
    "**Looping over key-value pairs:** \n",
    "\n",
    "```python\n",
    "for key,value in my_dict.items():\n",
    "    print(key)\n",
    "    print(value)\n",
    "```"
   ]
  },
  {
   "cell_type": "code",
   "execution_count": null,
   "metadata": {},
   "outputs": [],
   "source": []
  },
  {
   "cell_type": "markdown",
   "metadata": {},
   "source": [
    "### Exercises\n",
    "---\n",
    "**1. Create a dictionary literal with the information on your driver's license. It should contain keys for** `name`, `height`, **and** `eye_color`."
   ]
  },
  {
   "cell_type": "code",
   "execution_count": 7,
   "metadata": {},
   "outputs": [],
   "source": [
    "license = {\"name\": \"rob\", \"height\": \"6'\", \"eye_color\": \"brown\"}"
   ]
  },
  {
   "cell_type": "markdown",
   "metadata": {},
   "source": [
    "**2. Add** `city` **and** `state` **as additional keys in your dictionary.**"
   ]
  },
  {
   "cell_type": "code",
   "execution_count": 8,
   "metadata": {},
   "outputs": [],
   "source": [
    "license['city'] = \"Brooklyn\"\n",
    "license['state'] = \"NY\""
   ]
  },
  {
   "cell_type": "markdown",
   "metadata": {},
   "source": [
    "**3. Write a for-loop that will print out all the keys and values from your drivers license.**\n",
    "\n",
    "**The output should follow this pattern:** `\"My height is 6'0\"`, `\"My city is Brooklyn\"`, **etc**"
   ]
  },
  {
   "cell_type": "code",
   "execution_count": 9,
   "metadata": {
    "tags": []
   },
   "outputs": [
    {
     "name": "stdout",
     "output_type": "stream",
     "text": [
      "My name is rob\n",
      "My height is 6'\n",
      "My eye_color is brown\n",
      "My city is Brooklyn\n",
      "My state is NY\n"
     ]
    }
   ],
   "source": [
    "for key, value in license.items():\n",
    "    print(\"My \" + key + \" is \" + value)"
   ]
  },
  {
   "cell_type": "markdown",
   "metadata": {},
   "source": [
    "**4. Dictionaries and lists can be values inside a dictionary too! API data is frequently nested this way, so let's practice navigating through a mock API response.**\n",
    "\n",
    "**Can you fetch the CEO of AAPL from the response?**\n",
    "\n",
    "Hint: To drill down, use the keys of the outer dictionary and work inward. Eg. `api_response[\"MSFT\"][\"companyName\"]` will first drill into the Microsoft dictionary, then grab the value of companyName."
   ]
  },
  {
   "cell_type": "code",
   "execution_count": 10,
   "metadata": {},
   "outputs": [
    {
     "data": {
      "text/plain": [
       "'Tim Cook'"
      ]
     },
     "execution_count": 10,
     "metadata": {},
     "output_type": "execute_result"
    }
   ],
   "source": [
    "api_response = {\"AAPL\": {\"companyName\": \"Apple Inc.\",\n",
    "                         \"CEO\": \"Tim Cook\",\n",
    "                         \"tags\": [\"technology\", \"hardware\"]\n",
    "                        },\n",
    "                \"MSFT\": {\"companyName\": \"Microsoft Corporation\",\n",
    "                         \"CEO\": \"Satya Nadella\",\n",
    "                         \"tags\": [\"technology\", \"software\"]\n",
    "                         }\n",
    "                }\n",
    "               \n",
    "# WRITE YOUR CODE DOWN HERE\n",
    "api_response[\"AAPL\"][\"CEO\"]"
   ]
  },
  {
   "cell_type": "markdown",
   "metadata": {},
   "source": [
    "**5. Can you grab the tags for Microsoft from the same response? What about just the last tag?**"
   ]
  },
  {
   "cell_type": "code",
   "execution_count": 11,
   "metadata": {},
   "outputs": [
    {
     "data": {
      "text/plain": [
       "'software'"
      ]
     },
     "execution_count": 11,
     "metadata": {},
     "output_type": "execute_result"
    }
   ],
   "source": [
    "api_response['MSFT']['tags'][-1]"
   ]
  },
  {
   "cell_type": "markdown",
   "metadata": {},
   "source": [
    "### Extra Credit\n",
    "---\n",
    "**1. Write a function** `frequency()` **that will take a string and count the number of times each letter appears.**\n",
    "\n",
    "**The output should be a dictionary, like this:** `frequency(\"wood\") -> {\"w\": 1, \"o\": 2, \"d\": 1}`"
   ]
  },
  {
   "cell_type": "code",
   "execution_count": 12,
   "metadata": {},
   "outputs": [],
   "source": [
    "def frequency(string):\n",
    "    counts = {}\n",
    "    for letter in string:\n",
    "        if letter in counts:\n",
    "            counts[letter] = counts[letter] + 1\n",
    "        else:\n",
    "            counts[letter] = 1\n"
   ]
  },
  {
   "cell_type": "code",
   "execution_count": 13,
   "metadata": {},
   "outputs": [
    {
     "data": {
      "text/plain": [
       "{'d': 1, 'o': 2, 'w': 1}"
      ]
     },
     "execution_count": 13,
     "metadata": {},
     "output_type": "execute_result"
    }
   ],
   "source": [
    "def freq_set(word):\n",
    "    d = {}\n",
    "    for letter in set(word):\n",
    "        d[letter] = word.count(letter)\n",
    "    return d\n",
    "freq_set('wood')"
   ]
  },
  {
   "cell_type": "markdown",
   "metadata": {},
   "source": [
    "## III. APIs and JSON\n",
    "---\n",
    "\n",
    "### Warm Ups"
   ]
  },
  {
   "cell_type": "markdown",
   "metadata": {},
   "source": [
    "**Import requests package:**"
   ]
  },
  {
   "cell_type": "code",
   "execution_count": 14,
   "metadata": {
    "tags": []
   },
   "outputs": [],
   "source": [
    "import requests"
   ]
  },
  {
   "cell_type": "markdown",
   "metadata": {},
   "source": [
    "**Ensure we don't ping `opentdb` too often:**  \n",
    "For simplicity, think of our function `requests_get` as interchangeable with `requests.get`. They're the same thing, expect `requests_get` waits for a little while before pinging the url."
   ]
  },
  {
   "cell_type": "code",
   "execution_count": 15,
   "metadata": {},
   "outputs": [],
   "source": [
    "import time \n",
    "last = time.time()\n",
    "def requests_get(*args, **kwargs):\n",
    "    \n",
    "    # Tell the function that `last` is defined outside the \n",
    "    # function:\n",
    "    global last \n",
    "    \n",
    "    if time.time() - last < 5:\n",
    "        time.sleep(5)\n",
    "    result = requests.get(*args, **kwargs)\n",
    "    last = time.time() # update the last time we pinged opentdb\n",
    "    return result"
   ]
  },
  {
   "cell_type": "markdown",
   "metadata": {},
   "source": [
    "**GET Request:** "
   ]
  },
  {
   "cell_type": "code",
   "execution_count": 16,
   "metadata": {
    "tags": []
   },
   "outputs": [
    {
     "name": "stdout",
     "output_type": "stream",
     "text": [
      "dict_keys(['response_code', 'results'])\n",
      "\n"
     ]
    },
    {
     "data": {
      "text/plain": [
       "{'response_code': 0,\n",
       " 'results': [{'type': 'multiple',\n",
       "   'difficulty': 'hard',\n",
       "   'category': 'Science &amp; Nature',\n",
       "   'question': 'Autosomal-dominant Compelling Helio-Ophthalmic Outburst syndrome is the need to do what when seeing the Sun?',\n",
       "   'correct_answer': 'Sneeze',\n",
       "   'incorrect_answers': ['Cough', 'Yawn', 'Hiccup']}]}"
      ]
     },
     "metadata": {},
     "output_type": "display_data"
    }
   ],
   "source": [
    "fact_url = 'https://opentdb.com/api.php?amount=1'\n",
    "fact_d = requests_get(fact_url).json()\n",
    "print(fact_d.keys())\n",
    "print('')\n",
    "display(fact_d)"
   ]
  },
  {
   "cell_type": "markdown",
   "metadata": {},
   "source": [
    "**Fetching nested data:**"
   ]
  },
  {
   "cell_type": "code",
   "execution_count": 17,
   "metadata": {
    "tags": []
   },
   "outputs": [
    {
     "data": {
      "text/plain": [
       "[{'type': 'multiple',\n",
       "  'difficulty': 'hard',\n",
       "  'category': 'Science &amp; Nature',\n",
       "  'question': 'Autosomal-dominant Compelling Helio-Ophthalmic Outburst syndrome is the need to do what when seeing the Sun?',\n",
       "  'correct_answer': 'Sneeze',\n",
       "  'incorrect_answers': ['Cough', 'Yawn', 'Hiccup']}]"
      ]
     },
     "metadata": {},
     "output_type": "display_data"
    },
    {
     "name": "stdout",
     "output_type": "stream",
     "text": [
      "\n",
      "{'type': 'multiple', 'difficulty': 'hard', 'category': 'Science &amp; Nature', 'question': 'Autosomal-dominant Compelling Helio-Ophthalmic Outburst syndrome is the need to do what when seeing the Sun?', 'correct_answer': 'Sneeze', 'incorrect_answers': ['Cough', 'Yawn', 'Hiccup']}\n",
      "\n",
      "Autosomal-dominant Compelling Helio-Ophthalmic Outburst syndrome is the need to do what when seeing the Sun?\n",
      "['Cough', 'Yawn', 'Hiccup', 'Sneeze']\n"
     ]
    }
   ],
   "source": [
    "display(fact_d['results'])\n",
    "print('')\n",
    "print(fact_d['results'][0])\n",
    "print('')\n",
    "\n",
    "def show_fact(fact_d):\n",
    "    final_d = fact_d['results'][0]\n",
    "    \n",
    "    # The replacements in the following decode some some special characters.\n",
    "    # See https://www.ou.edu/research/electron/internet/special.shtml for a\n",
    "    # full list of possible html characters, and add replacements as necessary.\n",
    "    print(final_d['question'].replace('&quot;', '\"').replace('&#039;', \"'\")\n",
    "                             .replace('&eacute;', 'é'))\n",
    "    \n",
    "    # Make sure to use a copy so you don't change the original incorrect\n",
    "    # answers list\n",
    "    choices = final_d['incorrect_answers'].copy()\n",
    "    choices.append(final_d['correct_answer'])\n",
    "    print(choices)\n",
    "    return None\n",
    "\n",
    "show_fact(fact_d)"
   ]
  },
  {
   "cell_type": "markdown",
   "metadata": {},
   "source": [
    "**GET Request with query string parameters:**"
   ]
  },
  {
   "cell_type": "code",
   "execution_count": 18,
   "metadata": {
    "nbmake": {
     "mock": {
      "kind": "multiple"
     }
    },
    "tags": []
   },
   "outputs": [
    {
     "name": "stdout",
     "output_type": "stream",
     "text": [
      "Janus was the Roman god of doorways and passageways.\n",
      "['False', 'True']\n"
     ]
    }
   ],
   "source": [
    "params = {'type': 'boolean'}\n",
    "fact_d = requests_get(fact_url, params=params).json()\n",
    "\n",
    "show_fact(fact_d)"
   ]
  },
  {
   "cell_type": "markdown",
   "metadata": {},
   "source": [
    "**Get user input**:"
   ]
  },
  {
   "cell_type": "code",
   "execution_count": 19,
   "metadata": {
    "tags": [
     "skip-execution"
    ]
   },
   "outputs": [
    {
     "name": "stdin",
     "output_type": "stream",
     "text": [
      "What kind of question do you want, \"multiple\" or \"boolean\"?\n",
      " boolean\n"
     ]
    }
   ],
   "source": [
    "kind = input('What kind of question do you want, \"multiple\" or \"boolean\"?\\n')"
   ]
  },
  {
   "cell_type": "code",
   "execution_count": 20,
   "metadata": {
    "tags": []
   },
   "outputs": [
    {
     "name": "stdout",
     "output_type": "stream",
     "text": [
      "An atom contains a nucleus.\n",
      "['False', 'True']\n"
     ]
    }
   ],
   "source": [
    "params = {'type': kind}\n",
    "fact_d = requests_get(fact_url, params=params).json()\n",
    "show_fact(fact_d)"
   ]
  },
  {
   "cell_type": "markdown",
   "metadata": {},
   "source": [
    "## Exercises\n",
    "---\n",
    "**1. Do a basic GET request to the [Kanye West quote API](https://kanye.rest/) below, and fetch the quote from the response.**  \n",
    "(You don't need to worry about `requests_get`. You can just use `requests.get`.)"
   ]
  },
  {
   "cell_type": "code",
   "execution_count": 21,
   "metadata": {
    "tags": []
   },
   "outputs": [
    {
     "name": "stdout",
     "output_type": "stream",
     "text": [
      "{\"quote\":\"We will cure hunger\"}\n",
      "\n",
      "We will cure hunger\n"
     ]
    }
   ],
   "source": [
    "kanye_api = \"https://api.kanye.rest\"\n",
    "\n",
    "kanye_r = requests.get(kanye_api)\n",
    "print(kanye_r.text)\n",
    "print('')\n",
    "print(kanye_r.json()['quote'])"
   ]
  },
  {
   "cell_type": "markdown",
   "metadata": {},
   "source": [
    "**2. Modify the URL for the ZIP code API below to your own ZIP code, and extract the latitude/longitude (of the first place):** "
   ]
  },
  {
   "cell_type": "code",
   "execution_count": 22,
   "metadata": {},
   "outputs": [
    {
     "name": "stdout",
     "output_type": "stream",
     "text": [
      "40.679 -73.9644\n"
     ]
    }
   ],
   "source": [
    "zip_code_api = \"http://api.zippopotam.us/us/11238\"\n",
    "zip_r = requests.get(zip_code_api)\n",
    "place = zip_r.json()['places'][0]\n",
    "print(place['latitude'], place['longitude'])"
   ]
  },
  {
   "cell_type": "markdown",
   "metadata": {},
   "source": [
    "**3. Using the API above, write a function that will tell you what state a given ZIP code is in:**"
   ]
  },
  {
   "cell_type": "code",
   "execution_count": 23,
   "metadata": {},
   "outputs": [
    {
     "name": "stdout",
     "output_type": "stream",
     "text": [
      "New York\n"
     ]
    }
   ],
   "source": [
    "def get_state(zip_code):\n",
    "    url = 'http://api.zippopotam.us/us/{0}'.format(zip_code)\n",
    "    place = requests.get(url).json()['places'][0]\n",
    "    return place['state']\n",
    "print(get_state(10001))"
   ]
  },
  {
   "cell_type": "markdown",
   "metadata": {},
   "source": [
    "**4. Use the stock API below, with** `api_key` **and** `rows` **as params. Extract the** `Close` **price.**"
   ]
  },
  {
   "cell_type": "code",
   "execution_count": 24,
   "metadata": {},
   "outputs": [
    {
     "name": "stdout",
     "output_type": "stream",
     "text": [
      "https://www.quandl.com/api/v3/datasets/WIKI/FB/data.json?api_key=K2km7t6m9xhmYRD7zCPY&rows=1\n",
      "dict_keys(['dataset_data'])\n",
      "dict_keys(['limit', 'transform', 'column_index', 'column_names', 'start_date', 'end_date', 'frequency', 'data', 'collapse', 'order'])\n",
      "\n",
      "dict_values([1, None, None, ['Date', 'Open', 'High', 'Low', 'Close', 'Volume', 'Ex-Dividend', 'Split Ratio', 'Adj. Open', 'Adj. High', 'Adj. Low', 'Adj. Close', 'Adj. Volume'], '2012-05-18', '2018-03-27', 'daily', [['2018-03-27', 156.31, 162.85, 150.75, 152.19, 76787884.0, 0.0, 1.0, 156.31, 162.85, 150.75, 152.19, 76787884.0]], None, None])\n"
     ]
    },
    {
     "data": {
      "text/plain": [
       "152.19"
      ]
     },
     "execution_count": 24,
     "metadata": {},
     "output_type": "execute_result"
    }
   ],
   "source": [
    "stock_api = \"https://www.quandl.com/api/v3/datasets/WIKI/FB/data.json\"\n",
    "params = {'api_key': \"K2km7t6m9xhmYRD7zCPY\", \"rows\": 1}\n",
    "\n",
    "result = requests.get(stock_api, params=params)\n",
    "print(result.url)\n",
    "result = result.json()\n",
    "print(result.keys())\n",
    "print(result[list(result.keys())[0]].keys())\n",
    "print('') \n",
    "print(result[list(result.keys())[0]].values())\n",
    "\n",
    "result['dataset_data']['data'][0][4]"
   ]
  },
  {
   "cell_type": "markdown",
   "metadata": {},
   "source": [
    "**5. With the stock API above, write a function that will give you the most recent** `Close` **price for any stock symbol.**  \n",
    "Use the `input` function."
   ]
  },
  {
   "cell_type": "code",
   "execution_count": 25,
   "metadata": {
    "tags": [
     "skip-execution"
    ]
   },
   "outputs": [
    {
     "name": "stdin",
     "output_type": "stream",
     "text": [
      "Please enter a stock ticker\n",
      " aapl\n"
     ]
    },
    {
     "data": {
      "text/plain": [
       "168.34"
      ]
     },
     "execution_count": 25,
     "metadata": {},
     "output_type": "execute_result"
    }
   ],
   "source": [
    "def closing_price():\n",
    "    symbol = input('Please enter a stock ticker\\n')\n",
    "    stock_api = 'https://www.quandl.com/api/v3/datasets/WIKI/' \\\n",
    "                '{0:s}/data.json'.format(symbol)\n",
    "    params = {'api_key': \"K2km7t6m9xhmYRD7zCPY\", \"rows\": 1} \n",
    "    result = requests.get(stock_api, params=params).json()\n",
    "    return result['dataset_data']['data'][0][4]\n",
    "\n",
    "closing_price()"
   ]
  }
 ],
 "metadata": {
  "kernelspec": {
   "display_name": "Python 3 (ipykernel)",
   "language": "python",
   "name": "python3"
  },
  "language_info": {
   "codemirror_mode": {
    "name": "ipython",
    "version": 3
   },
   "file_extension": ".py",
   "mimetype": "text/x-python",
   "name": "python",
   "nbconvert_exporter": "python",
   "pygments_lexer": "ipython3",
   "version": "3.10.11"
  }
 },
 "nbformat": 4,
 "nbformat_minor": 4
}
