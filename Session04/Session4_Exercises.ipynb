{
 "cells": [
  {
   "cell_type": "markdown",
   "metadata": {},
   "source": [
    "# Python for Data Science, Level I\n",
    "### *Session \\#4*\n",
    "---\n",
    "\n",
    "### Helpful shortcuts\n",
    "---\n",
    "\n",
    "**SHIFT** + **ENTER** ----> Execute Cell\n",
    "\n",
    "**TAB** ----> See autocomplete options\n",
    "\n",
    "**ESC** then **b** ----> Create Cell \n",
    "\n",
    "**ESC** then **dd** ----> Delete Cell\n",
    "\n",
    "**\\[python expression\\]?** ---> Explanation of that Python expression\n",
    "\n",
    "**ESC** then **m** then __ENTER__ ----> Switch to Markdown mode"
   ]
  },
  {
   "cell_type": "markdown",
   "metadata": {},
   "source": [
    "## I. For Loops\n",
    "\n",
    "\n",
    "### Warm Ups\n",
    "---\n",
    "**For-loop on a list:**  \n",
    "Make a list `lst = [1, 2, 3]`.  \n",
    "Then use a for loop to print each element of `lst` on separate lines.\n",
    "\n",
    "The output should look like this:\n",
    "```python\n",
    "1\n",
    "2\n",
    "3\n",
    "```"
   ]
  },
  {
   "cell_type": "code",
   "execution_count": null,
   "metadata": {},
   "outputs": [],
   "source": []
  },
  {
   "cell_type": "markdown",
   "metadata": {},
   "source": [
    "**For-loop on a string:**  \n",
    "do the same thing for the string `word`.\n",
    "\n",
    "The output should look like this:\n",
    "```python\n",
    "w\n",
    "o\n",
    "r\n",
    "d\n",
    "```"
   ]
  },
  {
   "cell_type": "code",
   "execution_count": null,
   "metadata": {},
   "outputs": [],
   "source": []
  },
  {
   "cell_type": "markdown",
   "metadata": {},
   "source": [
    "**For-loop on a range:**\n",
    "To help you understand what a `range` is, make a range as follows\n",
    "```python\n",
    "rng = range(10)\n",
    "```\n",
    "Then try printing `rng`. What do you get? How would you print every element of the range?"
   ]
  },
  {
   "cell_type": "code",
   "execution_count": null,
   "metadata": {},
   "outputs": [],
   "source": []
  },
  {
   "cell_type": "markdown",
   "metadata": {},
   "source": [
    "**Using a for-loop to construct:**  \n",
    "Write a procedure that calculates  \n",
    "$\n",
    "\\begin{equation}\n",
    "\\displaystyle\\sum_{n=0}^9n\n",
    "\\end{equation}\n",
    "$  "
   ]
  },
  {
   "cell_type": "code",
   "execution_count": null,
   "metadata": {},
   "outputs": [],
   "source": []
  },
  {
   "cell_type": "markdown",
   "metadata": {},
   "source": [
    "### Exercises\n",
    "---"
   ]
  },
  {
   "cell_type": "markdown",
   "metadata": {},
   "source": [
    "**1. Write a function that, given a list of numbers, will sum the entire list.**"
   ]
  },
  {
   "cell_type": "code",
   "execution_count": null,
   "metadata": {},
   "outputs": [],
   "source": []
  },
  {
   "cell_type": "markdown",
   "metadata": {},
   "source": [
    "**2. Write function that, given a list of numbers, will return the count of negative numbers in the list.**"
   ]
  },
  {
   "cell_type": "code",
   "execution_count": null,
   "metadata": {},
   "outputs": [],
   "source": []
  },
  {
   "cell_type": "markdown",
   "metadata": {},
   "source": [
    "**3. Write a function that will find the largest number in a list using a for-loop.**\n",
    "\n",
    "Hint: Create a variable that will track the largest number seen thus far."
   ]
  },
  {
   "cell_type": "code",
   "execution_count": null,
   "metadata": {},
   "outputs": [],
   "source": []
  },
  {
   "cell_type": "markdown",
   "metadata": {},
   "source": [
    "**4. Write a function** `fizzbuzz()` **which loops over the integers from 1 to 50. For multiples of three print** `\"Fizz\"` **instead of the number and for the multiples of five print** `\"Buzz\"`. **For numbers which are multiples of both three and five print** `\"FizzBuzz\"`"
   ]
  },
  {
   "cell_type": "code",
   "execution_count": null,
   "metadata": {},
   "outputs": [],
   "source": []
  },
  {
   "cell_type": "markdown",
   "metadata": {},
   "source": [
    "### Extra Credit\n",
    "---\n",
    "**1. Write a function** `digit_sum()` **that, given a number, will return the sum of its digits.**\n",
    "\n",
    "**For example,** `digit_sum(1824)` **would return** `15` "
   ]
  },
  {
   "cell_type": "code",
   "execution_count": null,
   "metadata": {},
   "outputs": [],
   "source": []
  },
  {
   "cell_type": "markdown",
   "metadata": {},
   "source": [
    "## II. Dictionaries\n",
    "\n",
    "\n",
    "### Warm Ups\n",
    "---\n",
    "\n",
    "**Dictionary literal:**  \n",
    "Make a dictionary `my_dict` with keys 'name' and 'shoe_size'. Define the values to be your name and shoe size."
   ]
  },
  {
   "cell_type": "code",
   "execution_count": null,
   "metadata": {},
   "outputs": [],
   "source": []
  },
  {
   "cell_type": "markdown",
   "metadata": {},
   "source": [
    "**Fetch by key:**  \n",
    "Using the dictionary, print your name."
   ]
  },
  {
   "cell_type": "code",
   "execution_count": null,
   "metadata": {},
   "outputs": [],
   "source": []
  },
  {
   "cell_type": "markdown",
   "metadata": {},
   "source": [
    "**Add an item:**  \n",
    "Add your hair color to the dictionary."
   ]
  },
  {
   "cell_type": "code",
   "execution_count": null,
   "metadata": {},
   "outputs": [],
   "source": []
  },
  {
   "cell_type": "markdown",
   "metadata": {},
   "source": [
    "**Looping over a dictionary:**  \n",
    "Using a for loop, print all the keys in the dictionary."
   ]
  },
  {
   "cell_type": "code",
   "execution_count": null,
   "metadata": {},
   "outputs": [],
   "source": []
  },
  {
   "cell_type": "markdown",
   "metadata": {},
   "source": [
    "**Looping over key-value pairs:** \n",
    "Using a for loop, print all the key-value pairs in the dictionary.  "
   ]
  },
  {
   "cell_type": "code",
   "execution_count": null,
   "metadata": {},
   "outputs": [],
   "source": []
  },
  {
   "cell_type": "markdown",
   "metadata": {},
   "source": [
    "### Exercises\n",
    "---\n",
    "**1. Create a dictionary literal with the information on your driver's license. It should contain keys for** `name`, `height`, **and** `eye_color`."
   ]
  },
  {
   "cell_type": "code",
   "execution_count": null,
   "metadata": {},
   "outputs": [],
   "source": []
  },
  {
   "cell_type": "markdown",
   "metadata": {},
   "source": [
    "**2. Add** `city` **and** `state` **as additional keys in your dictionary.**"
   ]
  },
  {
   "cell_type": "code",
   "execution_count": null,
   "metadata": {},
   "outputs": [],
   "source": []
  },
  {
   "cell_type": "markdown",
   "metadata": {},
   "source": [
    "**3. Write a for-loop that will print out all the keys and values from your drivers license.**\n",
    "\n",
    "**The output should follow this pattern:** `\"My height is 6'0\"`, `\"My city is Brooklyn\"`, **etc**"
   ]
  },
  {
   "cell_type": "code",
   "execution_count": null,
   "metadata": {},
   "outputs": [],
   "source": []
  },
  {
   "cell_type": "markdown",
   "metadata": {},
   "source": [
    "**4. Dictionaries and lists can be values inside a dictionary too! API data is frequently nested this way, so let's practice navigating through a mock API response.**\n",
    "\n",
    "**Can you fetch the CEO of AAPL from the response?**\n",
    "\n",
    "Hint: To drill down, use the keys of the outer dictionary and work inward. Eg. `api_response[\"MSFT\"][\"companyName\"]` will first drill into the Microsoft dictionary, then grab the value of companyName."
   ]
  },
  {
   "cell_type": "code",
   "execution_count": null,
   "metadata": {},
   "outputs": [],
   "source": [
    "api_response = {\"AAPL\": {\"companyName\": \"Apple Inc.\",\n",
    "                         \"CEO\": \"Tim Cook\",\n",
    "                         \"tags\": [\"technology\", \"hardware\"]\n",
    "                        },\n",
    "                \"MSFT\": {\"companyName\": \"Microsoft Corporation\",\n",
    "                         \"CEO\": \"Satya Nadella\",\n",
    "                         \"tags\": [\"technology\", \"software\"]\n",
    "                         }\n",
    "                }\n",
    "               \n",
    "# WRITE YOUR CODE DOWN HERE"
   ]
  },
  {
   "cell_type": "markdown",
   "metadata": {},
   "source": [
    "**5. Can you grab the tags for Microsoft from the same response? What about just the last tag?**"
   ]
  },
  {
   "cell_type": "code",
   "execution_count": null,
   "metadata": {},
   "outputs": [],
   "source": []
  },
  {
   "cell_type": "markdown",
   "metadata": {},
   "source": [
    "### Extra Credit\n",
    "---\n",
    "**1. Write a function** `frequency()` **that will take a string and count the number of times each letter appears.**\n",
    "\n",
    "**The output should be a dictionary, like this:** `frequency(\"wood\") -> {\"w\": 1, \"o\": 2, \"d\": 1}`"
   ]
  },
  {
   "cell_type": "code",
   "execution_count": null,
   "metadata": {},
   "outputs": [],
   "source": []
  },
  {
   "cell_type": "markdown",
   "metadata": {},
   "source": [
    "## III. APIs and JSON\n",
    "---\n",
    "\n",
    "### Warm Ups"
   ]
  },
  {
   "cell_type": "markdown",
   "metadata": {},
   "source": [
    "**Import requests package:** `import requests`"
   ]
  },
  {
   "cell_type": "code",
   "execution_count": null,
   "metadata": {
    "tags": []
   },
   "outputs": [],
   "source": [
    "import requests"
   ]
  },
  {
   "cell_type": "markdown",
   "metadata": {},
   "source": [
    "**GET Request:** "
   ]
  },
  {
   "cell_type": "code",
   "execution_count": null,
   "metadata": {
    "tags": []
   },
   "outputs": [],
   "source": [
    "fact_url = 'https://opentdb.com/api.php?amount=1'\n",
    "fact_d = requests.get(fact_url).json()\n",
    "print(fact_d.keys())\n",
    "print('')\n",
    "display(fact_d)"
   ]
  },
  {
   "cell_type": "markdown",
   "metadata": {},
   "source": [
    "**Fetching nested data:**"
   ]
  },
  {
   "cell_type": "code",
   "execution_count": null,
   "metadata": {
    "tags": []
   },
   "outputs": [],
   "source": [
    "display(fact_d['results'])\n",
    "print('')\n",
    "print(fact_d['results'][0])\n",
    "print('')\n",
    "\n",
    "def show_fact(fact_d):\n",
    "    final_d = fact_d['results'][0]\n",
    "    \n",
    "    # The replacements in the following decode some some special characters.\n",
    "    # See https://www.ou.edu/research/electron/internet/special.shtml for a\n",
    "    # full list of possible html characters, and add replacements as necessary.\n",
    "    print(final_d['question'].replace('&quot;', '\"').replace('&#039;', \"'\")\n",
    "                             .replace('&eacute;', 'é'))\n",
    "    \n",
    "    # Make sure to use a copy so you don't change the original incorrect\n",
    "    # answers list\n",
    "    choices = final_d['incorrect_answers'].copy()\n",
    "    choices.append(final_d['correct_answer'])\n",
    "    print(choices)\n",
    "    return None\n",
    "\n",
    "show_fact(fact_d)"
   ]
  },
  {
   "cell_type": "markdown",
   "metadata": {},
   "source": [
    "**GET Request with query string parameters:**"
   ]
  },
  {
   "cell_type": "code",
   "execution_count": null,
   "metadata": {
    "nbmake": {
     "mock": {
      "kind": "multiple"
     }
    },
    "tags": []
   },
   "outputs": [],
   "source": [
    "params = {'type': 'boolean'}\n",
    "fact_d = requests.get(fact_url, params=params).json()\n",
    "\n",
    "show_fact(fact_d)"
   ]
  },
  {
   "cell_type": "markdown",
   "metadata": {},
   "source": [
    "**Get user input**:"
   ]
  },
  {
   "cell_type": "code",
   "execution_count": null,
   "metadata": {
    "tags": [
     "skip-execution"
    ]
   },
   "outputs": [],
   "source": [
    "kind = input('What kind of question do you want, \"multiple\" or \"boolean\"?\\n')"
   ]
  },
  {
   "cell_type": "code",
   "execution_count": null,
   "metadata": {
    "tags": []
   },
   "outputs": [],
   "source": [
    "params = {'type': kind}\n",
    "fact_d = requests.get(fact_url, params=params).json()\n",
    "show_fact(fact_d)"
   ]
  },
  {
   "cell_type": "markdown",
   "metadata": {},
   "source": [
    "## Exercises\n",
    "---\n",
    "**1. Do a basic GET request to the [Kanye West quote API](https://kanye.rest/) below, and fetch the quote from the response**"
   ]
  },
  {
   "cell_type": "code",
   "execution_count": null,
   "metadata": {},
   "outputs": [],
   "source": [
    "kanye_api = \"https://api.kanye.rest\""
   ]
  },
  {
   "cell_type": "markdown",
   "metadata": {},
   "source": [
    "**2. Modify the URL for the ZIP code API below to your own ZIP code, and extract the latitude/longitude (of the first place):** "
   ]
  },
  {
   "cell_type": "code",
   "execution_count": null,
   "metadata": {},
   "outputs": [],
   "source": [
    "zip_code_api = \"http://api.zippopotam.us/us/11238\""
   ]
  },
  {
   "cell_type": "markdown",
   "metadata": {},
   "source": [
    "**3. Using the API above, write a function that will tell you what state a given ZIP code is in:**"
   ]
  },
  {
   "cell_type": "code",
   "execution_count": null,
   "metadata": {},
   "outputs": [],
   "source": []
  },
  {
   "cell_type": "markdown",
   "metadata": {},
   "source": [
    "**4. Use the stock API below, with** `api_key` **and** `rows` **as params. Extract the** `Close` **price.**"
   ]
  },
  {
   "cell_type": "code",
   "execution_count": null,
   "metadata": {},
   "outputs": [],
   "source": [
    "stock_api = \"https://www.quandl.com/api/v3/datasets/WIKI/FB/data.json\"\n",
    "params = {'api_key': \"K2km7t6m9xhmYRD7zCPY\", \"rows\": 1}"
   ]
  },
  {
   "cell_type": "markdown",
   "metadata": {},
   "source": [
    "**5. With the stock API above, write a function that will give you the most recent** `Close` **price for any stock symbol.**  \n",
    "Use the `input` function."
   ]
  },
  {
   "cell_type": "code",
   "execution_count": null,
   "metadata": {},
   "outputs": [],
   "source": []
  }
 ],
 "metadata": {
  "kernelspec": {
   "display_name": "Python 3 (ipykernel)",
   "language": "python",
   "name": "python3"
  },
  "language_info": {
   "codemirror_mode": {
    "name": "ipython",
    "version": 3
   },
   "file_extension": ".py",
   "mimetype": "text/x-python",
   "name": "python",
   "nbconvert_exporter": "python",
   "pygments_lexer": "ipython3",
   "version": "3.10.11"
  }
 },
 "nbformat": 4,
 "nbformat_minor": 4
}
